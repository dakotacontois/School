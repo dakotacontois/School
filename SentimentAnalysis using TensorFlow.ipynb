{
 "cells": [
  {
   "cell_type": "code",
   "execution_count": 55,
   "id": "f2214f21",
   "metadata": {},
   "outputs": [],
   "source": [
    "# import packages\n",
    "import numpy as np\n",
    "import pandas as pd\n",
    "import matplotlib.pyplot as plt\n",
    "import seaborn as sns\n",
    "import string\n",
    "import re\n",
    "from collections import Counter\n",
    "from tensorflow.keras.preprocessing.text import Tokenizer\n",
    "from tensorflow.keras.preprocessing.sequence import pad_sequences\n",
    "from tensorflow.keras.models import Sequential\n",
    "from tensorflow.keras.layers import Input, Embedding, LSTM, Dense\n",
    "from keras.callbacks import EarlyStopping\n",
    "from keras.optimizers import Adam\n",
    "import nltk\n",
    "from nltk.tokenize import word_tokenize\n",
    "from nltk.stem import WordNetLemmatizer\n",
    "from nltk.corpus import wordnet, stopwords\n",
    "from sklearn.model_selection import train_test_split"
   ]
  },
  {
   "cell_type": "code",
   "execution_count": 56,
   "id": "6afbce7b",
   "metadata": {},
   "outputs": [],
   "source": [
    "# identifying/importing txt files\n",
    "yelp= pd.read_csv('yelp_labelled.txt', header= None, sep= '\\t', names= ['Review', 'Sentiment'], quoting= 3)\n",
    "amazon= pd.read_csv('amazon_cells_labelled.txt', header= None, sep= '\\t', names= ['Review', 'Sentiment'], quoting= 3)\n",
    "imdb= pd.read_csv('imdb_labelled.txt', header= None, sep= '\\t', names= ['Review', 'Sentiment'], quoting= 3)\n",
    "\n",
    "reviews= pd.concat([yelp, amazon, imdb], ignore_index= True)"
   ]
  },
  {
   "cell_type": "code",
   "execution_count": 57,
   "id": "75fbb08f",
   "metadata": {},
   "outputs": [
    {
     "name": "stdout",
     "output_type": "stream",
     "text": [
      "<class 'pandas.core.frame.DataFrame'>\n",
      "RangeIndex: 3000 entries, 0 to 2999\n",
      "Data columns (total 2 columns):\n",
      " #   Column     Non-Null Count  Dtype \n",
      "---  ------     --------------  ----- \n",
      " 0   Review     3000 non-null   object\n",
      " 1   Sentiment  3000 non-null   int64 \n",
      "dtypes: int64(1), object(1)\n",
      "memory usage: 47.0+ KB\n"
     ]
    }
   ],
   "source": [
    "# profiling dataframe\n",
    "reviews.info()"
   ]
  },
  {
   "cell_type": "code",
   "execution_count": 58,
   "id": "986c9b65",
   "metadata": {},
   "outputs": [
    {
     "name": "stdout",
     "output_type": "stream",
     "text": [
      "shape is:  (3000, 2)\n",
      "Sentiment\n",
      "1    1500\n",
      "0    1500\n",
      "Name: count, dtype: int64\n",
      "# of Nulls:  Review       0\n",
      "Sentiment    0\n",
      "dtype: int64\n"
     ]
    }
   ],
   "source": [
    "print(\"shape is: \", reviews.shape)\n",
    "print(reviews.Sentiment.value_counts())\n",
    "print(\"# of Nulls: \", reviews.isnull().sum())"
   ]
  },
  {
   "cell_type": "code",
   "execution_count": 59,
   "id": "24a0f55b",
   "metadata": {},
   "outputs": [
    {
     "data": {
      "text/plain": [
       "0                                Wow... Loved this place.\n",
       "1                                      Crust is not good.\n",
       "2               Not tasty and the texture was just nasty.\n",
       "3       Stopped by during the late May bank holiday of...\n",
       "4       The selection on the menu was great and so wer...\n",
       "                              ...                        \n",
       "2995    I just got bored watching Jessice Lange take h...\n",
       "2996    Unfortunately, any virtue in this film's produ...\n",
       "2997                     In a word, it is embarrassing.  \n",
       "2998                                 Exceptionally bad!  \n",
       "2999    All in all its an insult to one's intelligence...\n",
       "Name: Review, Length: 3000, dtype: object"
      ]
     },
     "execution_count": 59,
     "metadata": {},
     "output_type": "execute_result"
    }
   ],
   "source": [
    "reviews.Review"
   ]
  },
  {
   "cell_type": "code",
   "execution_count": 60,
   "id": "9655b849",
   "metadata": {},
   "outputs": [
    {
     "data": {
      "text/plain": [
       "['é',\n",
       " 'é',\n",
       " 'ê',\n",
       " 'é',\n",
       " '\\x96',\n",
       " 'é',\n",
       " '\\x85',\n",
       " '\\x96',\n",
       " 'é',\n",
       " 'é',\n",
       " 'å',\n",
       " '\\x96',\n",
       " '\\x97',\n",
       " '\\x96',\n",
       " 'é']"
      ]
     },
     "execution_count": 60,
     "metadata": {},
     "output_type": "execute_result"
    }
   ],
   "source": [
    "# get examples of unusual characters\n",
    "def Eng_character(c):\n",
    "    try:\n",
    "        c.encode(encoding='utf-8').decode('ascii')\n",
    "    except UnicodeDecodeError:\n",
    "        return False\n",
    "    else:\n",
    "        return True\n",
    "    \n",
    "unusual = []\n",
    "for index, row in reviews.iterrows():\n",
    "    for l in list(row['Review']):\n",
    "        for c in l:\n",
    "            if Eng_character(c) == True:\n",
    "                pass\n",
    "            else:\n",
    "                unusual.append(c)\n",
    "\n",
    "# 15 instances of unusual/non_english characters                \n",
    "unusual[:15]"
   ]
  },
  {
   "cell_type": "code",
   "execution_count": 61,
   "id": "fa64b736",
   "metadata": {},
   "outputs": [
    {
     "data": {
      "text/plain": [
       "0                                wow    loved this place \n",
       "1                                      crust is not good \n",
       "2               not tasty and the texture was just nasty \n",
       "3       stopped by during the late may bank holiday of...\n",
       "4       the selection on the menu was great and so wer...\n",
       "                              ...                        \n",
       "2995    i just got bored watching jessice lange take h...\n",
       "2996    unfortunately  any virtue in this film s produ...\n",
       "2997                       in word  it is embarrassing   \n",
       "2998                                 exceptionally bad   \n",
       "2999    all in all its an insult to one s intelligence...\n",
       "Name: Review, Length: 3000, dtype: object"
      ]
     },
     "execution_count": 61,
     "metadata": {},
     "output_type": "execute_result"
    }
   ],
   "source": [
    "# make all words lower case, remove punctuation\n",
    "reviews.Review = reviews.Review.str.lower()\n",
    "\n",
    "reviews.Review = reviews.Review.apply(lambda x: re.sub(r'\\s+[a-z]\\s+', ' ', x))\n",
    "reviews.Review = reviews.Review.apply(lambda x: re.sub(r'[^a-z]', ' ', x))\n",
    "reviews.Review"
   ]
  },
  {
   "cell_type": "code",
   "execution_count": 62,
   "id": "438ff2cb",
   "metadata": {},
   "outputs": [
    {
     "data": {
      "text/plain": [
       "0                                         wow loved place\n",
       "1                                              crust good\n",
       "2                                     tasty texture nasty\n",
       "3       stopped late may bank holiday rick steve recom...\n",
       "4                             selection menu great prices\n",
       "                              ...                        \n",
       "2995        got bored watching jessice lange take clothes\n",
       "2996    unfortunately virtue film production work lost...\n",
       "2997                                    word embarrassing\n",
       "2998                                    exceptionally bad\n",
       "2999             insult one intelligence huge waste money\n",
       "Name: Review, Length: 3000, dtype: object"
      ]
     },
     "execution_count": 62,
     "metadata": {},
     "output_type": "execute_result"
    }
   ],
   "source": [
    "stop_words = stopwords.words('english')\n",
    "stopwords_dict = Counter(stop_words)\n",
    "reviews.Review = reviews.Review.apply(lambda x: ' '.join([word for word in x.split() if word not in (stop_words)]))\n",
    "reviews.Review"
   ]
  },
  {
   "cell_type": "code",
   "execution_count": 63,
   "id": "15e321fd",
   "metadata": {},
   "outputs": [
    {
     "name": "stdout",
     "output_type": "stream",
     "text": [
      "0                                          wow love place\n",
      "1                                              crust good\n",
      "2                                     tasty texture nasty\n",
      "3       stop late may bank holiday rick steve recommen...\n",
      "4                              selection menu great price\n",
      "                              ...                        \n",
      "2995            get bore watch jessice lange take clothes\n",
      "2996    unfortunately virtue film production work lose...\n",
      "2997                                       word embarrass\n",
      "2998                                    exceptionally bad\n",
      "2999             insult one intelligence huge waste money\n",
      "Name: Review, Length: 3000, dtype: object\n"
     ]
    }
   ],
   "source": [
    "# lemmatize data\n",
    "def get_pos(word):\n",
    "    tag = nltk.pos_tag([word])[0][1][0].upper()\n",
    "    tag_dict = {\"J\": wordnet.ADJ,\n",
    "                \"N\": wordnet.NOUN,\n",
    "                \"V\": wordnet.VERB,\n",
    "                \"R\": wordnet.ADV}\n",
    "    return tag_dict.get(tag, wordnet.NOUN)\n",
    "lemmatizer= WordNetLemmatizer()\n",
    "reviews.Review = \\\n",
    "    reviews.Review.apply(lambda x: ' '.join([lemmatizer.lemmatize(w, get_pos(w)) for w in word_tokenize(x)]))\n",
    "print(reviews.Review)"
   ]
  },
  {
   "cell_type": "code",
   "execution_count": 64,
   "id": "a5a7467f",
   "metadata": {},
   "outputs": [
    {
     "name": "stdout",
     "output_type": "stream",
     "text": [
      "Vocabulary size:  4174\n"
     ]
    },
    {
     "data": {
      "text/plain": [
       "[('good', 1),\n",
       " ('great', 2),\n",
       " ('movie', 3),\n",
       " ('film', 4),\n",
       " ('phone', 5),\n",
       " ('bad', 6),\n",
       " ('one', 7),\n",
       " ('well', 8),\n",
       " ('work', 9),\n",
       " ('like', 10)]"
      ]
     },
     "execution_count": 64,
     "metadata": {},
     "output_type": "execute_result"
    }
   ],
   "source": [
    "tokenizer = Tokenizer()\n",
    "tokenizer.fit_on_texts(reviews['Review'])\n",
    "\n",
    "word_list=tokenizer.word_index\n",
    "print('Vocabulary size: ', len(word_list) + 1)\n",
    "list(word_list.items())[:10]"
   ]
  },
  {
   "cell_type": "code",
   "execution_count": 65,
   "id": "23f2fff8",
   "metadata": {},
   "outputs": [
    {
     "data": {
      "text/plain": [
       "8"
      ]
     },
     "execution_count": 65,
     "metadata": {},
     "output_type": "execute_result"
    }
   ],
   "source": [
    "# get embedding length\n",
    "vocab_size = len(word_list)+1\n",
    "max_sequence_embedding = int(round(np.sqrt(np.sqrt(vocab_size)), 0))\n",
    "max_sequence_embedding"
   ]
  },
  {
   "cell_type": "code",
   "execution_count": 66,
   "id": "f4f51be1",
   "metadata": {},
   "outputs": [
    {
     "name": "stdout",
     "output_type": "stream",
     "text": [
      "masterful piece film make many theme simmer occasionally boil wart study poet bohemian self indulgent wartime year span aerial bombardment london outward tranquillity welsh coastal retreat borderline friendship lust love dedication art experience versus practical concern jealousy rivalry cowardice egotism versus heroism self sacrifice\n"
     ]
    },
    {
     "data": {
      "text/plain": [
       "44"
      ]
     },
     "execution_count": 66,
     "metadata": {},
     "output_type": "execute_result"
    }
   ],
   "source": [
    "# get max review character length\n",
    "review_len = []\n",
    "for char in reviews.Review:\n",
    "    review_len.append(len(char.split(' ')))\n",
    "\n",
    "# print longest review to see if it matches up\n",
    "print(max(reviews['Review'], key=len))\n",
    "\n",
    "review_longest = np.max(review_len)\n",
    "review_longest"
   ]
  },
  {
   "cell_type": "code",
   "execution_count": 67,
   "id": "70f2b7b8",
   "metadata": {},
   "outputs": [
    {
     "name": "stdout",
     "output_type": "stream",
     "text": [
      "Mean sequence length: 6\n"
     ]
    }
   ],
   "source": [
    "mean_sequence_length = int(round(np.mean(review_len), 0))\n",
    "print('Mean sequence length: ' + str(mean_sequence_length))"
   ]
  },
  {
   "cell_type": "code",
   "execution_count": 68,
   "id": "6914cb69",
   "metadata": {},
   "outputs": [],
   "source": [
    "tokenizer = Tokenizer(num_words= vocab_size)\n",
    "tokenizer.fit_on_texts(reviews.Review)\n",
    "encoded = tokenizer.texts_to_sequences(reviews.Review)\n",
    "padded = pad_sequences(encoded, maxlen= review_longest)"
   ]
  },
  {
   "cell_type": "code",
   "execution_count": 69,
   "id": "4e8ab5fb",
   "metadata": {},
   "outputs": [
    {
     "data": {
      "text/plain": [
       "array([[   0,    0,    0,    0,    0,    0,    0,    0,    0,    0,    0,\n",
       "           0,    0,    0,    0,    0,    0,    0,    0,    0,    0,    0,\n",
       "           0,    0,    0,    0,    0,    0,    0,  169,  170,  122,  366,\n",
       "          20,  753, 1282, 1928, 1283,  621,  537,  225,  130, 1283,   12],\n",
       "       [   0,    0,    0,    0,    0,    0,    0,    0,    0,    0,    0,\n",
       "           0,    0,    0,    0,    0,    0,    0,    0,    0,    0,    0,\n",
       "           0,    0,    0,    0,    0,    0,    0,    0,    0,    0,    0,\n",
       "           0,    0,    0,    1,   40,  451,  367,  315, 1929, 1284,   28]])"
      ]
     },
     "execution_count": 69,
     "metadata": {},
     "output_type": "execute_result"
    }
   ],
   "source": [
    "# look at two random reviews\n",
    "padded[100:102]"
   ]
  },
  {
   "cell_type": "code",
   "execution_count": 70,
   "id": "158bd73f",
   "metadata": {},
   "outputs": [],
   "source": [
    "# save these ease of access later in script\n",
    "vocab_size = 4174\n",
    "embedding = 8\n",
    "max_len = 44"
   ]
  },
  {
   "cell_type": "code",
   "execution_count": 71,
   "id": "e100cd48",
   "metadata": {},
   "outputs": [
    {
     "name": "stdout",
     "output_type": "stream",
     "text": [
      "Input shape will be:  2400\n"
     ]
    }
   ],
   "source": [
    "# split into train and testing data\n",
    "X_train, X_test, y_train, y_test = train_test_split(padded, reviews.Sentiment, test_size = 0.2, random_state=7)\n",
    "\n",
    "train_shape = X_train.shape[0]\n",
    "print(\"Input shape will be: \", train_shape)"
   ]
  },
  {
   "cell_type": "code",
   "execution_count": 72,
   "id": "41bc0266",
   "metadata": {},
   "outputs": [],
   "source": [
    "# save out files\n",
    "pd.DataFrame(X_train).to_csv('review_training.csv')\n",
    "pd.DataFrame(X_test).to_csv('review_test.csv')\n",
    "pd.DataFrame(y_train).to_csv('label_training.csv')\n",
    "pd.DataFrame(y_test).to_csv('label_test.csv')"
   ]
  },
  {
   "cell_type": "code",
   "execution_count": 91,
   "id": "7bb1dee3",
   "metadata": {},
   "outputs": [
    {
     "data": {
      "text/html": [
       "<pre style=\"white-space:pre;overflow-x:auto;line-height:normal;font-family:Menlo,'DejaVu Sans Mono',consolas,'Courier New',monospace\"><span style=\"font-weight: bold\">Model: \"sequential_10\"</span>\n",
       "</pre>\n"
      ],
      "text/plain": [
       "\u001b[1mModel: \"sequential_10\"\u001b[0m\n"
      ]
     },
     "metadata": {},
     "output_type": "display_data"
    },
    {
     "data": {
      "text/html": [
       "<pre style=\"white-space:pre;overflow-x:auto;line-height:normal;font-family:Menlo,'DejaVu Sans Mono',consolas,'Courier New',monospace\">┏━━━━━━━━━━━━━━━━━━━━━━━━━━━━━━━━━━━━━━┳━━━━━━━━━━━━━━━━━━━━━━━━━━━━━┳━━━━━━━━━━━━━━━━━┓\n",
       "┃<span style=\"font-weight: bold\"> Layer (type)                         </span>┃<span style=\"font-weight: bold\"> Output Shape                </span>┃<span style=\"font-weight: bold\">         Param # </span>┃\n",
       "┡━━━━━━━━━━━━━━━━━━━━━━━━━━━━━━━━━━━━━━╇━━━━━━━━━━━━━━━━━━━━━━━━━━━━━╇━━━━━━━━━━━━━━━━━┩\n",
       "│ embedding_10 (<span style=\"color: #0087ff; text-decoration-color: #0087ff\">Embedding</span>)             │ (<span style=\"color: #00d7ff; text-decoration-color: #00d7ff\">None</span>, <span style=\"color: #00af00; text-decoration-color: #00af00\">2400</span>, <span style=\"color: #00af00; text-decoration-color: #00af00\">8</span>)             │          <span style=\"color: #00af00; text-decoration-color: #00af00\">33,392</span> │\n",
       "├──────────────────────────────────────┼─────────────────────────────┼─────────────────┤\n",
       "│ lstm_10 (<span style=\"color: #0087ff; text-decoration-color: #0087ff\">LSTM</span>)                       │ (<span style=\"color: #00d7ff; text-decoration-color: #00d7ff\">None</span>, <span style=\"color: #00af00; text-decoration-color: #00af00\">32</span>)                  │           <span style=\"color: #00af00; text-decoration-color: #00af00\">5,248</span> │\n",
       "├──────────────────────────────────────┼─────────────────────────────┼─────────────────┤\n",
       "│ dense_32 (<span style=\"color: #0087ff; text-decoration-color: #0087ff\">Dense</span>)                     │ (<span style=\"color: #00d7ff; text-decoration-color: #00d7ff\">None</span>, <span style=\"color: #00af00; text-decoration-color: #00af00\">20</span>)                  │             <span style=\"color: #00af00; text-decoration-color: #00af00\">660</span> │\n",
       "├──────────────────────────────────────┼─────────────────────────────┼─────────────────┤\n",
       "│ dense_33 (<span style=\"color: #0087ff; text-decoration-color: #0087ff\">Dense</span>)                     │ (<span style=\"color: #00d7ff; text-decoration-color: #00d7ff\">None</span>, <span style=\"color: #00af00; text-decoration-color: #00af00\">10</span>)                  │             <span style=\"color: #00af00; text-decoration-color: #00af00\">210</span> │\n",
       "├──────────────────────────────────────┼─────────────────────────────┼─────────────────┤\n",
       "│ dense_34 (<span style=\"color: #0087ff; text-decoration-color: #0087ff\">Dense</span>)                     │ (<span style=\"color: #00d7ff; text-decoration-color: #00d7ff\">None</span>, <span style=\"color: #00af00; text-decoration-color: #00af00\">5</span>)                   │              <span style=\"color: #00af00; text-decoration-color: #00af00\">55</span> │\n",
       "├──────────────────────────────────────┼─────────────────────────────┼─────────────────┤\n",
       "│ dense_35 (<span style=\"color: #0087ff; text-decoration-color: #0087ff\">Dense</span>)                     │ (<span style=\"color: #00d7ff; text-decoration-color: #00d7ff\">None</span>, <span style=\"color: #00af00; text-decoration-color: #00af00\">1</span>)                   │               <span style=\"color: #00af00; text-decoration-color: #00af00\">6</span> │\n",
       "└──────────────────────────────────────┴─────────────────────────────┴─────────────────┘\n",
       "</pre>\n"
      ],
      "text/plain": [
       "┏━━━━━━━━━━━━━━━━━━━━━━━━━━━━━━━━━━━━━━┳━━━━━━━━━━━━━━━━━━━━━━━━━━━━━┳━━━━━━━━━━━━━━━━━┓\n",
       "┃\u001b[1m \u001b[0m\u001b[1mLayer (type)                        \u001b[0m\u001b[1m \u001b[0m┃\u001b[1m \u001b[0m\u001b[1mOutput Shape               \u001b[0m\u001b[1m \u001b[0m┃\u001b[1m \u001b[0m\u001b[1m        Param #\u001b[0m\u001b[1m \u001b[0m┃\n",
       "┡━━━━━━━━━━━━━━━━━━━━━━━━━━━━━━━━━━━━━━╇━━━━━━━━━━━━━━━━━━━━━━━━━━━━━╇━━━━━━━━━━━━━━━━━┩\n",
       "│ embedding_10 (\u001b[38;5;33mEmbedding\u001b[0m)             │ (\u001b[38;5;45mNone\u001b[0m, \u001b[38;5;34m2400\u001b[0m, \u001b[38;5;34m8\u001b[0m)             │          \u001b[38;5;34m33,392\u001b[0m │\n",
       "├──────────────────────────────────────┼─────────────────────────────┼─────────────────┤\n",
       "│ lstm_10 (\u001b[38;5;33mLSTM\u001b[0m)                       │ (\u001b[38;5;45mNone\u001b[0m, \u001b[38;5;34m32\u001b[0m)                  │           \u001b[38;5;34m5,248\u001b[0m │\n",
       "├──────────────────────────────────────┼─────────────────────────────┼─────────────────┤\n",
       "│ dense_32 (\u001b[38;5;33mDense\u001b[0m)                     │ (\u001b[38;5;45mNone\u001b[0m, \u001b[38;5;34m20\u001b[0m)                  │             \u001b[38;5;34m660\u001b[0m │\n",
       "├──────────────────────────────────────┼─────────────────────────────┼─────────────────┤\n",
       "│ dense_33 (\u001b[38;5;33mDense\u001b[0m)                     │ (\u001b[38;5;45mNone\u001b[0m, \u001b[38;5;34m10\u001b[0m)                  │             \u001b[38;5;34m210\u001b[0m │\n",
       "├──────────────────────────────────────┼─────────────────────────────┼─────────────────┤\n",
       "│ dense_34 (\u001b[38;5;33mDense\u001b[0m)                     │ (\u001b[38;5;45mNone\u001b[0m, \u001b[38;5;34m5\u001b[0m)                   │              \u001b[38;5;34m55\u001b[0m │\n",
       "├──────────────────────────────────────┼─────────────────────────────┼─────────────────┤\n",
       "│ dense_35 (\u001b[38;5;33mDense\u001b[0m)                     │ (\u001b[38;5;45mNone\u001b[0m, \u001b[38;5;34m1\u001b[0m)                   │               \u001b[38;5;34m6\u001b[0m │\n",
       "└──────────────────────────────────────┴─────────────────────────────┴─────────────────┘\n"
      ]
     },
     "metadata": {},
     "output_type": "display_data"
    },
    {
     "data": {
      "text/html": [
       "<pre style=\"white-space:pre;overflow-x:auto;line-height:normal;font-family:Menlo,'DejaVu Sans Mono',consolas,'Courier New',monospace\"><span style=\"font-weight: bold\"> Total params: </span><span style=\"color: #00af00; text-decoration-color: #00af00\">39,571</span> (154.57 KB)\n",
       "</pre>\n"
      ],
      "text/plain": [
       "\u001b[1m Total params: \u001b[0m\u001b[38;5;34m39,571\u001b[0m (154.57 KB)\n"
      ]
     },
     "metadata": {},
     "output_type": "display_data"
    },
    {
     "data": {
      "text/html": [
       "<pre style=\"white-space:pre;overflow-x:auto;line-height:normal;font-family:Menlo,'DejaVu Sans Mono',consolas,'Courier New',monospace\"><span style=\"font-weight: bold\"> Trainable params: </span><span style=\"color: #00af00; text-decoration-color: #00af00\">39,571</span> (154.57 KB)\n",
       "</pre>\n"
      ],
      "text/plain": [
       "\u001b[1m Trainable params: \u001b[0m\u001b[38;5;34m39,571\u001b[0m (154.57 KB)\n"
      ]
     },
     "metadata": {},
     "output_type": "display_data"
    },
    {
     "data": {
      "text/html": [
       "<pre style=\"white-space:pre;overflow-x:auto;line-height:normal;font-family:Menlo,'DejaVu Sans Mono',consolas,'Courier New',monospace\"><span style=\"font-weight: bold\"> Non-trainable params: </span><span style=\"color: #00af00; text-decoration-color: #00af00\">0</span> (0.00 B)\n",
       "</pre>\n"
      ],
      "text/plain": [
       "\u001b[1m Non-trainable params: \u001b[0m\u001b[38;5;34m0\u001b[0m (0.00 B)\n"
      ]
     },
     "metadata": {},
     "output_type": "display_data"
    },
    {
     "name": "stdout",
     "output_type": "stream",
     "text": [
      "None\n"
     ]
    }
   ],
   "source": [
    "model = Sequential()\n",
    "model.add(Input(shape= (train_shape, )))\n",
    "model.add(Embedding(vocab_size, embedding, input_length=max_len))\n",
    "model.add(LSTM(32, dropout= 0.2, recurrent_dropout=0.2))\n",
    "model.add(Dense(20, activation='relu'))\n",
    "model.add(Dense(10, activation='relu'))\n",
    "model.add(Dense(5, activation='relu'))\n",
    "model.add(Dense(1, activation='sigmoid'))\n",
    "model.compile(loss= 'binary_crossentropy', optimizer= Adam(learning_rate= 0.0001), metrics= ['accuracy'])  \n",
    "print(model.summary()) \n",
    "\n",
    "early_stopping= EarlyStopping(patience= 2)"
   ]
  },
  {
   "cell_type": "code",
   "execution_count": 92,
   "id": "ec1afbe4",
   "metadata": {},
   "outputs": [
    {
     "name": "stdout",
     "output_type": "stream",
     "text": [
      "Epoch 1/20\n",
      "\u001b[1m75/75\u001b[0m \u001b[32m━━━━━━━━━━━━━━━━━━━━\u001b[0m\u001b[37m\u001b[0m \u001b[1m6s\u001b[0m 30ms/step - accuracy: 0.4922 - loss: 0.6931 - val_accuracy: 0.5833 - val_loss: 0.6929\n",
      "Epoch 2/20\n",
      "\u001b[1m75/75\u001b[0m \u001b[32m━━━━━━━━━━━━━━━━━━━━\u001b[0m\u001b[37m\u001b[0m \u001b[1m2s\u001b[0m 22ms/step - accuracy: 0.5575 - loss: 0.6927 - val_accuracy: 0.5750 - val_loss: 0.6923\n",
      "Epoch 3/20\n",
      "\u001b[1m75/75\u001b[0m \u001b[32m━━━━━━━━━━━━━━━━━━━━\u001b[0m\u001b[37m\u001b[0m \u001b[1m2s\u001b[0m 23ms/step - accuracy: 0.5696 - loss: 0.6923 - val_accuracy: 0.6400 - val_loss: 0.6913\n",
      "Epoch 4/20\n",
      "\u001b[1m75/75\u001b[0m \u001b[32m━━━━━━━━━━━━━━━━━━━━\u001b[0m\u001b[37m\u001b[0m \u001b[1m2s\u001b[0m 22ms/step - accuracy: 0.6299 - loss: 0.6905 - val_accuracy: 0.6650 - val_loss: 0.6899\n",
      "Epoch 5/20\n",
      "\u001b[1m75/75\u001b[0m \u001b[32m━━━━━━━━━━━━━━━━━━━━\u001b[0m\u001b[37m\u001b[0m \u001b[1m2s\u001b[0m 22ms/step - accuracy: 0.6993 - loss: 0.6882 - val_accuracy: 0.7017 - val_loss: 0.6873\n",
      "Epoch 6/20\n",
      "\u001b[1m75/75\u001b[0m \u001b[32m━━━━━━━━━━━━━━━━━━━━\u001b[0m\u001b[37m\u001b[0m \u001b[1m2s\u001b[0m 22ms/step - accuracy: 0.7217 - loss: 0.6838 - val_accuracy: 0.7000 - val_loss: 0.6826\n",
      "Epoch 7/20\n",
      "\u001b[1m75/75\u001b[0m \u001b[32m━━━━━━━━━━━━━━━━━━━━\u001b[0m\u001b[37m\u001b[0m \u001b[1m2s\u001b[0m 26ms/step - accuracy: 0.7002 - loss: 0.6774 - val_accuracy: 0.7033 - val_loss: 0.6751\n",
      "Epoch 8/20\n",
      "\u001b[1m75/75\u001b[0m \u001b[32m━━━━━━━━━━━━━━━━━━━━\u001b[0m\u001b[37m\u001b[0m \u001b[1m2s\u001b[0m 24ms/step - accuracy: 0.7570 - loss: 0.6639 - val_accuracy: 0.7350 - val_loss: 0.6614\n",
      "Epoch 9/20\n",
      "\u001b[1m75/75\u001b[0m \u001b[32m━━━━━━━━━━━━━━━━━━━━\u001b[0m\u001b[37m\u001b[0m \u001b[1m2s\u001b[0m 22ms/step - accuracy: 0.7862 - loss: 0.6403 - val_accuracy: 0.7533 - val_loss: 0.6402\n",
      "Epoch 10/20\n",
      "\u001b[1m75/75\u001b[0m \u001b[32m━━━━━━━━━━━━━━━━━━━━\u001b[0m\u001b[37m\u001b[0m \u001b[1m2s\u001b[0m 22ms/step - accuracy: 0.7685 - loss: 0.6106 - val_accuracy: 0.7600 - val_loss: 0.6144\n",
      "Epoch 11/20\n",
      "\u001b[1m75/75\u001b[0m \u001b[32m━━━━━━━━━━━━━━━━━━━━\u001b[0m\u001b[37m\u001b[0m \u001b[1m2s\u001b[0m 22ms/step - accuracy: 0.8075 - loss: 0.5621 - val_accuracy: 0.7750 - val_loss: 0.5796\n",
      "Epoch 12/20\n",
      "\u001b[1m75/75\u001b[0m \u001b[32m━━━━━━━━━━━━━━━━━━━━\u001b[0m\u001b[37m\u001b[0m \u001b[1m2s\u001b[0m 22ms/step - accuracy: 0.8217 - loss: 0.5134 - val_accuracy: 0.7733 - val_loss: 0.5469\n",
      "Epoch 13/20\n",
      "\u001b[1m75/75\u001b[0m \u001b[32m━━━━━━━━━━━━━━━━━━━━\u001b[0m\u001b[37m\u001b[0m \u001b[1m2s\u001b[0m 22ms/step - accuracy: 0.8488 - loss: 0.4745 - val_accuracy: 0.7850 - val_loss: 0.5193\n",
      "Epoch 14/20\n",
      "\u001b[1m75/75\u001b[0m \u001b[32m━━━━━━━━━━━━━━━━━━━━\u001b[0m\u001b[37m\u001b[0m \u001b[1m2s\u001b[0m 23ms/step - accuracy: 0.8702 - loss: 0.4240 - val_accuracy: 0.7683 - val_loss: 0.5028\n",
      "Epoch 15/20\n",
      "\u001b[1m75/75\u001b[0m \u001b[32m━━━━━━━━━━━━━━━━━━━━\u001b[0m\u001b[37m\u001b[0m \u001b[1m2s\u001b[0m 22ms/step - accuracy: 0.8896 - loss: 0.3825 - val_accuracy: 0.7833 - val_loss: 0.4853\n",
      "Epoch 16/20\n",
      "\u001b[1m75/75\u001b[0m \u001b[32m━━━━━━━━━━━━━━━━━━━━\u001b[0m\u001b[37m\u001b[0m \u001b[1m2s\u001b[0m 24ms/step - accuracy: 0.8776 - loss: 0.3596 - val_accuracy: 0.7967 - val_loss: 0.4690\n",
      "Epoch 17/20\n",
      "\u001b[1m75/75\u001b[0m \u001b[32m━━━━━━━━━━━━━━━━━━━━\u001b[0m\u001b[37m\u001b[0m \u001b[1m2s\u001b[0m 23ms/step - accuracy: 0.8907 - loss: 0.3335 - val_accuracy: 0.7900 - val_loss: 0.4615\n",
      "Epoch 18/20\n",
      "\u001b[1m75/75\u001b[0m \u001b[32m━━━━━━━━━━━━━━━━━━━━\u001b[0m\u001b[37m\u001b[0m \u001b[1m2s\u001b[0m 23ms/step - accuracy: 0.8997 - loss: 0.3025 - val_accuracy: 0.8017 - val_loss: 0.4571\n",
      "Epoch 19/20\n",
      "\u001b[1m75/75\u001b[0m \u001b[32m━━━━━━━━━━━━━━━━━━━━\u001b[0m\u001b[37m\u001b[0m \u001b[1m2s\u001b[0m 24ms/step - accuracy: 0.9099 - loss: 0.2811 - val_accuracy: 0.8033 - val_loss: 0.4538\n",
      "Epoch 20/20\n",
      "\u001b[1m75/75\u001b[0m \u001b[32m━━━━━━━━━━━━━━━━━━━━\u001b[0m\u001b[37m\u001b[0m \u001b[1m2s\u001b[0m 22ms/step - accuracy: 0.9142 - loss: 0.2484 - val_accuracy: 0.7950 - val_loss: 0.4546\n"
     ]
    }
   ],
   "source": [
    "history = model.fit(X_train, y_train, epochs= 20, validation_data= (X_test, y_test), callbacks= [early_stopping])"
   ]
  },
  {
   "cell_type": "code",
   "execution_count": 93,
   "id": "716deb0c",
   "metadata": {},
   "outputs": [
    {
     "data": {
      "image/png": "[encoded data removed]",
      "text/plain": [
       "<Figure size 640x480 with 1 Axes>"
      ]
     },
     "metadata": {},
     "output_type": "display_data"
    }
   ],
   "source": [
    "# model accuracy\n",
    "plt.plot(history.history['accuracy'], label='Accuracy')\n",
    "plt.plot(history.history['val_accuracy'], label='Validation Accuracy')\n",
    "plt.title(\"Model Accuracy\")\n",
    "plt.xlabel(\"Epoch\")\n",
    "plt.legend()\n",
    "plt.show()"
   ]
  },
  {
   "cell_type": "code",
   "execution_count": 94,
   "id": "1a454766",
   "metadata": {},
   "outputs": [
    {
     "data": {
      "image/png": "[encoded data removed]",
      "text/plain": [
       "<Figure size 640x480 with 1 Axes>"
      ]
     },
     "metadata": {},
     "output_type": "display_data"
    }
   ],
   "source": [
    "plt.plot(history.history['loss'], label='Loss')\n",
    "plt.plot(history.history['val_loss'], label='Validation Loss')\n",
    "plt.title(\"Model Loss\")\n",
    "plt.xlabel(\"Epoch\")\n",
    "plt.legend()\n",
    "plt.show()"
   ]
  },
  {
   "cell_type": "code",
   "execution_count": 95,
   "id": "45778d40",
   "metadata": {},
   "outputs": [
    {
     "name": "stdout",
     "output_type": "stream",
     "text": [
      "\u001b[1m19/19\u001b[0m \u001b[32m━━━━━━━━━━━━━━━━━━━━\u001b[0m\u001b[37m\u001b[0m \u001b[1m0s\u001b[0m 8ms/step - accuracy: 0.8087 - loss: 0.4429\n"
     ]
    },
    {
     "data": {
      "text/plain": [
       "[0.4546377956867218, 0.7950000166893005]"
      ]
     },
     "execution_count": 95,
     "metadata": {},
     "output_type": "execute_result"
    }
   ],
   "source": [
    "model.evaluate(X_test, y_test)"
   ]
  },
  {
   "cell_type": "code",
   "execution_count": 96,
   "id": "5714435a",
   "metadata": {},
   "outputs": [],
   "source": [
    "model.save('sentiment_analysis.keras')"
   ]
  },
  {
   "cell_type": "code",
   "execution_count": 97,
   "id": "021d85a8",
   "metadata": {},
   "outputs": [],
   "source": [
    "#Function to run a prediction on a given text input\n",
    "def predict_sentiment(text):\n",
    "    tw= tokenizer.texts_to_sequences([text])\n",
    "    tw= pad_sequences(tw)\n",
    "    prediction= int(model.predict(tw).round().item())\n",
    "    print(\"Predicted label: \", prediction)"
   ]
  },
  {
   "cell_type": "code",
   "execution_count": 104,
   "id": "bec4381b",
   "metadata": {},
   "outputs": [
    {
     "name": "stdout",
     "output_type": "stream",
     "text": [
      "\u001b[1m1/1\u001b[0m \u001b[32m━━━━━━━━━━━━━━━━━━━━\u001b[0m\u001b[37m\u001b[0m \u001b[1m0s\u001b[0m 51ms/step\n",
      "Predicted label:  1\n"
     ]
    }
   ],
   "source": [
    "test_sentence1 = \"I would recommend it to others.\"\n",
    "predict_sentiment(test_sentence1)"
   ]
  },
  {
   "cell_type": "code",
   "execution_count": 103,
   "id": "02c349f5",
   "metadata": {},
   "outputs": [
    {
     "name": "stdout",
     "output_type": "stream",
     "text": [
      "\u001b[1m1/1\u001b[0m \u001b[32m━━━━━━━━━━━━━━━━━━━━\u001b[0m\u001b[37m\u001b[0m \u001b[1m0s\u001b[0m 56ms/step\n",
      "Predicted label:  0\n"
     ]
    }
   ],
   "source": [
    "test_sentence2 = \"I dislike this phone\"\n",
    "predict_sentiment(test_sentence2)"
   ]
  }
 ],
 "metadata": {
  "kernelspec": {
   "display_name": "Python 3 (ipykernel)",
   "language": "python",
   "name": "python3"
  },
  "language_info": {
   "codemirror_mode": {
    "name": "ipython",
    "version": 3
   },
   "file_extension": ".py",
   "mimetype": "text/x-python",
   "name": "python",
   "nbconvert_exporter": "python",
   "pygments_lexer": "ipython3",
   "version": "3.11.11"
  }
 },
 "nbformat": 4,
 "nbformat_minor": 5
}
