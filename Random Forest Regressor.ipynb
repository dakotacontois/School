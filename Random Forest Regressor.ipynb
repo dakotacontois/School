{
 "cells": [
  {
   "cell_type": "code",
   "execution_count": 1,
   "id": "4a6b5be4",
   "metadata": {},
   "outputs": [],
   "source": [
    "#importing packages and identifying/importing csv file\n",
    "import pandas as pd\n",
    "import warnings\n",
    "import statistics\n",
    "import seaborn as sns\n",
    "from sklearn.feature_selection import f_classif, SelectKBest\n",
    "from sklearn.model_selection import train_test_split\n",
    "from sklearn.model_selection import GridSearchCV\n",
    "from sklearn.ensemble import RandomForestRegressor\n",
    "from sklearn.metrics import mean_squared_error as MSE\n",
    "from sklearn.metrics import r2_score\n",
    "warnings.simplefilter(action='ignore')\n",
    "medical=pd.read_csv('medical_clean.csv')"
   ]
  },
  {
   "cell_type": "code",
   "execution_count": 2,
   "id": "75fbb08f",
   "metadata": {},
   "outputs": [
    {
     "name": "stdout",
     "output_type": "stream",
     "text": [
      "<class 'pandas.core.frame.DataFrame'>\n",
      "RangeIndex: 10000 entries, 0 to 9999\n",
      "Data columns (total 50 columns):\n",
      " #   Column              Non-Null Count  Dtype  \n",
      "---  ------              --------------  -----  \n",
      " 0   CaseOrder           10000 non-null  int64  \n",
      " 1   Customer_id         10000 non-null  object \n",
      " 2   Interaction         10000 non-null  object \n",
      " 3   UID                 10000 non-null  object \n",
      " 4   City                10000 non-null  object \n",
      " 5   State               10000 non-null  object \n",
      " 6   County              10000 non-null  object \n",
      " 7   Zip                 10000 non-null  int64  \n",
      " 8   Lat                 10000 non-null  float64\n",
      " 9   Lng                 10000 non-null  float64\n",
      " 10  Population          10000 non-null  int64  \n",
      " 11  Area                10000 non-null  object \n",
      " 12  TimeZone            10000 non-null  object \n",
      " 13  Job                 10000 non-null  object \n",
      " 14  Children            10000 non-null  int64  \n",
      " 15  Age                 10000 non-null  int64  \n",
      " 16  Income              10000 non-null  float64\n",
      " 17  Marital             10000 non-null  object \n",
      " 18  Gender              10000 non-null  object \n",
      " 19  ReAdmis             10000 non-null  object \n",
      " 20  VitD_levels         10000 non-null  float64\n",
      " 21  Doc_visits          10000 non-null  int64  \n",
      " 22  Full_meals_eaten    10000 non-null  int64  \n",
      " 23  vitD_supp           10000 non-null  int64  \n",
      " 24  Soft_drink          10000 non-null  object \n",
      " 25  Initial_admin       10000 non-null  object \n",
      " 26  HighBlood           10000 non-null  object \n",
      " 27  Stroke              10000 non-null  object \n",
      " 28  Complication_risk   10000 non-null  object \n",
      " 29  Overweight          10000 non-null  object \n",
      " 30  Arthritis           10000 non-null  object \n",
      " 31  Diabetes            10000 non-null  object \n",
      " 32  Hyperlipidemia      10000 non-null  object \n",
      " 33  BackPain            10000 non-null  object \n",
      " 34  Anxiety             10000 non-null  object \n",
      " 35  Allergic_rhinitis   10000 non-null  object \n",
      " 36  Reflux_esophagitis  10000 non-null  object \n",
      " 37  Asthma              10000 non-null  object \n",
      " 38  Services            10000 non-null  object \n",
      " 39  Initial_days        10000 non-null  float64\n",
      " 40  TotalCharge         10000 non-null  float64\n",
      " 41  Additional_charges  10000 non-null  float64\n",
      " 42  Item1               10000 non-null  int64  \n",
      " 43  Item2               10000 non-null  int64  \n",
      " 44  Item3               10000 non-null  int64  \n",
      " 45  Item4               10000 non-null  int64  \n",
      " 46  Item5               10000 non-null  int64  \n",
      " 47  Item6               10000 non-null  int64  \n",
      " 48  Item7               10000 non-null  int64  \n",
      " 49  Item8               10000 non-null  int64  \n",
      "dtypes: float64(7), int64(16), object(27)\n",
      "memory usage: 3.8+ MB\n"
     ]
    }
   ],
   "source": [
    "# profiling dataframe. No null values\n",
    "medical.info()"
   ]
  },
  {
   "cell_type": "code",
   "execution_count": 3,
   "id": "7a7f1fdc",
   "metadata": {},
   "outputs": [
    {
     "data": {
      "text/html": [
       "<div>\n",
       "<style scoped>\n",
       "    .dataframe tbody tr th:only-of-type {\n",
       "        vertical-align: middle;\n",
       "    }\n",
       "\n",
       "    .dataframe tbody tr th {\n",
       "        vertical-align: top;\n",
       "    }\n",
       "\n",
       "    .dataframe thead th {\n",
       "        text-align: right;\n",
       "    }\n",
       "</style>\n",
       "<table border=\"1\" class=\"dataframe\">\n",
       "  <thead>\n",
       "    <tr style=\"text-align: right;\">\n",
       "      <th></th>\n",
       "      <th>CaseOrder</th>\n",
       "      <th>Zip</th>\n",
       "      <th>Lat</th>\n",
       "      <th>Lng</th>\n",
       "      <th>Population</th>\n",
       "      <th>Children</th>\n",
       "      <th>Age</th>\n",
       "      <th>Income</th>\n",
       "      <th>VitD_levels</th>\n",
       "      <th>Doc_visits</th>\n",
       "      <th>...</th>\n",
       "      <th>TotalCharge</th>\n",
       "      <th>Additional_charges</th>\n",
       "      <th>Item1</th>\n",
       "      <th>Item2</th>\n",
       "      <th>Item3</th>\n",
       "      <th>Item4</th>\n",
       "      <th>Item5</th>\n",
       "      <th>Item6</th>\n",
       "      <th>Item7</th>\n",
       "      <th>Item8</th>\n",
       "    </tr>\n",
       "  </thead>\n",
       "  <tbody>\n",
       "    <tr>\n",
       "      <th>count</th>\n",
       "      <td>10000.00000</td>\n",
       "      <td>10000.000000</td>\n",
       "      <td>10000.000000</td>\n",
       "      <td>10000.000000</td>\n",
       "      <td>10000.000000</td>\n",
       "      <td>10000.000000</td>\n",
       "      <td>10000.000000</td>\n",
       "      <td>10000.000000</td>\n",
       "      <td>10000.000000</td>\n",
       "      <td>10000.000000</td>\n",
       "      <td>...</td>\n",
       "      <td>10000.000000</td>\n",
       "      <td>10000.000000</td>\n",
       "      <td>10000.000000</td>\n",
       "      <td>10000.000000</td>\n",
       "      <td>10000.000000</td>\n",
       "      <td>10000.000000</td>\n",
       "      <td>10000.000000</td>\n",
       "      <td>10000.000000</td>\n",
       "      <td>10000.000000</td>\n",
       "      <td>10000.000000</td>\n",
       "    </tr>\n",
       "    <tr>\n",
       "      <th>mean</th>\n",
       "      <td>5000.50000</td>\n",
       "      <td>50159.323900</td>\n",
       "      <td>38.751099</td>\n",
       "      <td>-91.243080</td>\n",
       "      <td>9965.253800</td>\n",
       "      <td>2.097200</td>\n",
       "      <td>53.511700</td>\n",
       "      <td>40490.495160</td>\n",
       "      <td>17.964262</td>\n",
       "      <td>5.012200</td>\n",
       "      <td>...</td>\n",
       "      <td>5312.172769</td>\n",
       "      <td>12934.528587</td>\n",
       "      <td>3.518800</td>\n",
       "      <td>3.506700</td>\n",
       "      <td>3.511100</td>\n",
       "      <td>3.515100</td>\n",
       "      <td>3.496900</td>\n",
       "      <td>3.522500</td>\n",
       "      <td>3.494000</td>\n",
       "      <td>3.509700</td>\n",
       "    </tr>\n",
       "    <tr>\n",
       "      <th>std</th>\n",
       "      <td>2886.89568</td>\n",
       "      <td>27469.588208</td>\n",
       "      <td>5.403085</td>\n",
       "      <td>15.205998</td>\n",
       "      <td>14824.758614</td>\n",
       "      <td>2.163659</td>\n",
       "      <td>20.638538</td>\n",
       "      <td>28521.153293</td>\n",
       "      <td>2.017231</td>\n",
       "      <td>1.045734</td>\n",
       "      <td>...</td>\n",
       "      <td>2180.393838</td>\n",
       "      <td>6542.601544</td>\n",
       "      <td>1.031966</td>\n",
       "      <td>1.034825</td>\n",
       "      <td>1.032755</td>\n",
       "      <td>1.036282</td>\n",
       "      <td>1.030192</td>\n",
       "      <td>1.032376</td>\n",
       "      <td>1.021405</td>\n",
       "      <td>1.042312</td>\n",
       "    </tr>\n",
       "    <tr>\n",
       "      <th>min</th>\n",
       "      <td>1.00000</td>\n",
       "      <td>610.000000</td>\n",
       "      <td>17.967190</td>\n",
       "      <td>-174.209700</td>\n",
       "      <td>0.000000</td>\n",
       "      <td>0.000000</td>\n",
       "      <td>18.000000</td>\n",
       "      <td>154.080000</td>\n",
       "      <td>9.806483</td>\n",
       "      <td>1.000000</td>\n",
       "      <td>...</td>\n",
       "      <td>1938.312067</td>\n",
       "      <td>3125.703000</td>\n",
       "      <td>1.000000</td>\n",
       "      <td>1.000000</td>\n",
       "      <td>1.000000</td>\n",
       "      <td>1.000000</td>\n",
       "      <td>1.000000</td>\n",
       "      <td>1.000000</td>\n",
       "      <td>1.000000</td>\n",
       "      <td>1.000000</td>\n",
       "    </tr>\n",
       "    <tr>\n",
       "      <th>25%</th>\n",
       "      <td>2500.75000</td>\n",
       "      <td>27592.000000</td>\n",
       "      <td>35.255120</td>\n",
       "      <td>-97.352982</td>\n",
       "      <td>694.750000</td>\n",
       "      <td>0.000000</td>\n",
       "      <td>36.000000</td>\n",
       "      <td>19598.775000</td>\n",
       "      <td>16.626439</td>\n",
       "      <td>4.000000</td>\n",
       "      <td>...</td>\n",
       "      <td>3179.374015</td>\n",
       "      <td>7986.487755</td>\n",
       "      <td>3.000000</td>\n",
       "      <td>3.000000</td>\n",
       "      <td>3.000000</td>\n",
       "      <td>3.000000</td>\n",
       "      <td>3.000000</td>\n",
       "      <td>3.000000</td>\n",
       "      <td>3.000000</td>\n",
       "      <td>3.000000</td>\n",
       "    </tr>\n",
       "    <tr>\n",
       "      <th>50%</th>\n",
       "      <td>5000.50000</td>\n",
       "      <td>50207.000000</td>\n",
       "      <td>39.419355</td>\n",
       "      <td>-88.397230</td>\n",
       "      <td>2769.000000</td>\n",
       "      <td>1.000000</td>\n",
       "      <td>53.000000</td>\n",
       "      <td>33768.420000</td>\n",
       "      <td>17.951122</td>\n",
       "      <td>5.000000</td>\n",
       "      <td>...</td>\n",
       "      <td>5213.952000</td>\n",
       "      <td>11573.977735</td>\n",
       "      <td>4.000000</td>\n",
       "      <td>3.000000</td>\n",
       "      <td>4.000000</td>\n",
       "      <td>4.000000</td>\n",
       "      <td>3.000000</td>\n",
       "      <td>4.000000</td>\n",
       "      <td>3.000000</td>\n",
       "      <td>3.000000</td>\n",
       "    </tr>\n",
       "    <tr>\n",
       "      <th>75%</th>\n",
       "      <td>7500.25000</td>\n",
       "      <td>72411.750000</td>\n",
       "      <td>42.044175</td>\n",
       "      <td>-80.438050</td>\n",
       "      <td>13945.000000</td>\n",
       "      <td>3.000000</td>\n",
       "      <td>71.000000</td>\n",
       "      <td>54296.402500</td>\n",
       "      <td>19.347963</td>\n",
       "      <td>6.000000</td>\n",
       "      <td>...</td>\n",
       "      <td>7459.699750</td>\n",
       "      <td>15626.490000</td>\n",
       "      <td>4.000000</td>\n",
       "      <td>4.000000</td>\n",
       "      <td>4.000000</td>\n",
       "      <td>4.000000</td>\n",
       "      <td>4.000000</td>\n",
       "      <td>4.000000</td>\n",
       "      <td>4.000000</td>\n",
       "      <td>4.000000</td>\n",
       "    </tr>\n",
       "    <tr>\n",
       "      <th>max</th>\n",
       "      <td>10000.00000</td>\n",
       "      <td>99929.000000</td>\n",
       "      <td>70.560990</td>\n",
       "      <td>-65.290170</td>\n",
       "      <td>122814.000000</td>\n",
       "      <td>10.000000</td>\n",
       "      <td>89.000000</td>\n",
       "      <td>207249.100000</td>\n",
       "      <td>26.394449</td>\n",
       "      <td>9.000000</td>\n",
       "      <td>...</td>\n",
       "      <td>9180.728000</td>\n",
       "      <td>30566.070000</td>\n",
       "      <td>8.000000</td>\n",
       "      <td>7.000000</td>\n",
       "      <td>8.000000</td>\n",
       "      <td>7.000000</td>\n",
       "      <td>7.000000</td>\n",
       "      <td>7.000000</td>\n",
       "      <td>7.000000</td>\n",
       "      <td>7.000000</td>\n",
       "    </tr>\n",
       "  </tbody>\n",
       "</table>\n",
       "<p>8 rows × 23 columns</p>\n",
       "</div>"
      ],
      "text/plain": [
       "         CaseOrder           Zip           Lat           Lng     Population  \\\n",
       "count  10000.00000  10000.000000  10000.000000  10000.000000   10000.000000   \n",
       "mean    5000.50000  50159.323900     38.751099    -91.243080    9965.253800   \n",
       "std     2886.89568  27469.588208      5.403085     15.205998   14824.758614   \n",
       "min        1.00000    610.000000     17.967190   -174.209700       0.000000   \n",
       "25%     2500.75000  27592.000000     35.255120    -97.352982     694.750000   \n",
       "50%     5000.50000  50207.000000     39.419355    -88.397230    2769.000000   \n",
       "75%     7500.25000  72411.750000     42.044175    -80.438050   13945.000000   \n",
       "max    10000.00000  99929.000000     70.560990    -65.290170  122814.000000   \n",
       "\n",
       "           Children           Age         Income   VitD_levels    Doc_visits  \\\n",
       "count  10000.000000  10000.000000   10000.000000  10000.000000  10000.000000   \n",
       "mean       2.097200     53.511700   40490.495160     17.964262      5.012200   \n",
       "std        2.163659     20.638538   28521.153293      2.017231      1.045734   \n",
       "min        0.000000     18.000000     154.080000      9.806483      1.000000   \n",
       "25%        0.000000     36.000000   19598.775000     16.626439      4.000000   \n",
       "50%        1.000000     53.000000   33768.420000     17.951122      5.000000   \n",
       "75%        3.000000     71.000000   54296.402500     19.347963      6.000000   \n",
       "max       10.000000     89.000000  207249.100000     26.394449      9.000000   \n",
       "\n",
       "       ...   TotalCharge  Additional_charges         Item1         Item2  \\\n",
       "count  ...  10000.000000        10000.000000  10000.000000  10000.000000   \n",
       "mean   ...   5312.172769        12934.528587      3.518800      3.506700   \n",
       "std    ...   2180.393838         6542.601544      1.031966      1.034825   \n",
       "min    ...   1938.312067         3125.703000      1.000000      1.000000   \n",
       "25%    ...   3179.374015         7986.487755      3.000000      3.000000   \n",
       "50%    ...   5213.952000        11573.977735      4.000000      3.000000   \n",
       "75%    ...   7459.699750        15626.490000      4.000000      4.000000   \n",
       "max    ...   9180.728000        30566.070000      8.000000      7.000000   \n",
       "\n",
       "              Item3         Item4         Item5         Item6         Item7  \\\n",
       "count  10000.000000  10000.000000  10000.000000  10000.000000  10000.000000   \n",
       "mean       3.511100      3.515100      3.496900      3.522500      3.494000   \n",
       "std        1.032755      1.036282      1.030192      1.032376      1.021405   \n",
       "min        1.000000      1.000000      1.000000      1.000000      1.000000   \n",
       "25%        3.000000      3.000000      3.000000      3.000000      3.000000   \n",
       "50%        4.000000      4.000000      3.000000      4.000000      3.000000   \n",
       "75%        4.000000      4.000000      4.000000      4.000000      4.000000   \n",
       "max        8.000000      7.000000      7.000000      7.000000      7.000000   \n",
       "\n",
       "              Item8  \n",
       "count  10000.000000  \n",
       "mean       3.509700  \n",
       "std        1.042312  \n",
       "min        1.000000  \n",
       "25%        3.000000  \n",
       "50%        3.000000  \n",
       "75%        4.000000  \n",
       "max        7.000000  \n",
       "\n",
       "[8 rows x 23 columns]"
      ]
     },
     "execution_count": 3,
     "metadata": {},
     "output_type": "execute_result"
    }
   ],
   "source": [
    "medical.describe()"
   ]
  },
  {
   "cell_type": "markdown",
   "id": "3c875cda",
   "metadata": {},
   "source": [
    "Begin identifying duplicates section"
   ]
  },
  {
   "cell_type": "code",
   "execution_count": 4,
   "id": "20bdbb57",
   "metadata": {},
   "outputs": [
    {
     "data": {
      "text/plain": [
       "0       False\n",
       "1       False\n",
       "2       False\n",
       "3       False\n",
       "4       False\n",
       "        ...  \n",
       "9995    False\n",
       "9996    False\n",
       "9997    False\n",
       "9998    False\n",
       "9999    False\n",
       "Length: 10000, dtype: bool"
      ]
     },
     "execution_count": 4,
     "metadata": {},
     "output_type": "execute_result"
    }
   ],
   "source": [
    "# identifying any duplicates\n",
    "medical.duplicated()"
   ]
  },
  {
   "cell_type": "code",
   "execution_count": 5,
   "id": "36c2e20c",
   "metadata": {},
   "outputs": [
    {
     "name": "stdout",
     "output_type": "stream",
     "text": [
      "False    10000\n",
      "Name: count, dtype: int64\n"
     ]
    }
   ],
   "source": [
    "# seeing full value count of duplicates: no duplicates in file\n",
    "print(medical.duplicated().value_counts())"
   ]
  },
  {
   "cell_type": "code",
   "execution_count": 6,
   "id": "bbc08881",
   "metadata": {},
   "outputs": [
    {
     "data": {
      "text/plain": [
       "CaseOrder             0\n",
       "Customer_id           0\n",
       "Interaction           0\n",
       "UID                   0\n",
       "City                  0\n",
       "State                 0\n",
       "County                0\n",
       "Zip                   0\n",
       "Lat                   0\n",
       "Lng                   0\n",
       "Population            0\n",
       "Area                  0\n",
       "TimeZone              0\n",
       "Job                   0\n",
       "Children              0\n",
       "Age                   0\n",
       "Income                0\n",
       "Marital               0\n",
       "Gender                0\n",
       "ReAdmis               0\n",
       "VitD_levels           0\n",
       "Doc_visits            0\n",
       "Full_meals_eaten      0\n",
       "vitD_supp             0\n",
       "Soft_drink            0\n",
       "Initial_admin         0\n",
       "HighBlood             0\n",
       "Stroke                0\n",
       "Complication_risk     0\n",
       "Overweight            0\n",
       "Arthritis             0\n",
       "Diabetes              0\n",
       "Hyperlipidemia        0\n",
       "BackPain              0\n",
       "Anxiety               0\n",
       "Allergic_rhinitis     0\n",
       "Reflux_esophagitis    0\n",
       "Asthma                0\n",
       "Services              0\n",
       "Initial_days          0\n",
       "TotalCharge           0\n",
       "Additional_charges    0\n",
       "Item1                 0\n",
       "Item2                 0\n",
       "Item3                 0\n",
       "Item4                 0\n",
       "Item5                 0\n",
       "Item6                 0\n",
       "Item7                 0\n",
       "Item8                 0\n",
       "dtype: int64"
      ]
     },
     "execution_count": 6,
     "metadata": {},
     "output_type": "execute_result"
    }
   ],
   "source": [
    "# looking into missing data\n",
    "medical.isnull().sum()"
   ]
  },
  {
   "cell_type": "code",
   "execution_count": 8,
   "id": "6a0069f7",
   "metadata": {},
   "outputs": [
    {
     "data": {
      "image/png": "[encoded data removed]",
      "text/plain": [
       "<Figure size 640x480 with 1 Axes>"
      ]
     },
     "metadata": {},
     "output_type": "display_data"
    }
   ],
   "source": [
    "# look at boxplot of Population variable to identify outliers\n",
    "boxplot=sns.boxplot(x='Population',data=medical)\n",
    "# Outliers will be retained due to the large number of outliers and the expected diversity"
   ]
  },
  {
   "cell_type": "code",
   "execution_count": 9,
   "id": "4ae0c7ca",
   "metadata": {},
   "outputs": [
    {
     "data": {
      "image/png": "[encoded data removed]",
      "text/plain": [
       "<Figure size 640x480 with 1 Axes>"
      ]
     },
     "metadata": {},
     "output_type": "display_data"
    }
   ],
   "source": [
    "# look at boxplot of Children variable to identify outliers\n",
    "boxplot=sns.boxplot(x='Children',data=medical) \n",
    "# outliers will be retained because these values are expected diversity"
   ]
  },
  {
   "cell_type": "code",
   "execution_count": 10,
   "id": "2de273d3",
   "metadata": {},
   "outputs": [
    {
     "data": {
      "image/png": "[encoded data removed]",
      "text/plain": [
       "<Figure size 640x480 with 1 Axes>"
      ]
     },
     "metadata": {},
     "output_type": "display_data"
    }
   ],
   "source": [
    "# look at boxplot of Age variable to identify outliers\n",
    "boxplot=sns.boxplot(x='Age',data=medical) \n",
    "# no outliers"
   ]
  },
  {
   "cell_type": "code",
   "execution_count": 11,
   "id": "6c3e4d2f",
   "metadata": {},
   "outputs": [
    {
     "data": {
      "image/png": "[encoded data removed]",
      "text/plain": [
       "<Figure size 640x480 with 1 Axes>"
      ]
     },
     "metadata": {},
     "output_type": "display_data"
    }
   ],
   "source": [
    "# look at boxplot of Income variable to identify outliers\n",
    "boxplot=sns.boxplot(x='Income',data=medical) \n",
    "# Outliers will be retained because they add expected diversity"
   ]
  },
  {
   "cell_type": "code",
   "execution_count": 12,
   "id": "b7660f6a",
   "metadata": {},
   "outputs": [
    {
     "data": {
      "image/png": "[encoded data removed]",
      "text/plain": [
       "<Figure size 640x480 with 1 Axes>"
      ]
     },
     "metadata": {},
     "output_type": "display_data"
    }
   ],
   "source": [
    "# look at boxplot of vit D levels variable to identify outliers\n",
    "boxplot=sns.boxplot(x='VitD_levels',data=medical) \n",
    "# Outliers will be retained"
   ]
  },
  {
   "cell_type": "code",
   "execution_count": 13,
   "id": "31a8748d",
   "metadata": {},
   "outputs": [
    {
     "data": {
      "image/png": "[encoded data removed]",
      "text/plain": [
       "<Figure size 640x480 with 1 Axes>"
      ]
     },
     "metadata": {},
     "output_type": "display_data"
    }
   ],
   "source": [
    "# look at boxplot of doc visits variable\n",
    "boxplot=sns.boxplot(x='Doc_visits',data=medical) \n",
    "# no outliers"
   ]
  },
  {
   "cell_type": "code",
   "execution_count": 14,
   "id": "abb63b63",
   "metadata": {},
   "outputs": [
    {
     "data": {
      "image/png": "[encoded data removed]",
      "text/plain": [
       "<Figure size 640x480 with 1 Axes>"
      ]
     },
     "metadata": {},
     "output_type": "display_data"
    }
   ],
   "source": [
    "# look at boxplot of full meals eaten variable\n",
    "boxplot=sns.boxplot(x='Full_meals_eaten',data=medical) \n",
    "# Outliers will be retained"
   ]
  },
  {
   "cell_type": "code",
   "execution_count": 15,
   "id": "bea1ed62",
   "metadata": {},
   "outputs": [
    {
     "data": {
      "image/png": "[encoded data removed]",
      "text/plain": [
       "<Figure size 640x480 with 1 Axes>"
      ]
     },
     "metadata": {},
     "output_type": "display_data"
    }
   ],
   "source": [
    "# look at boxplot of vit D supplement variable\n",
    "boxplot=sns.boxplot(x='vitD_supp',data=medical)\n",
    "# Outliers will be retained"
   ]
  },
  {
   "cell_type": "code",
   "execution_count": 16,
   "id": "a4e52bb9",
   "metadata": {},
   "outputs": [
    {
     "data": {
      "image/png": "[encoded data removed]",
      "text/plain": [
       "<Figure size 640x480 with 1 Axes>"
      ]
     },
     "metadata": {},
     "output_type": "display_data"
    }
   ],
   "source": [
    "# look at boxplot of initial days variable\n",
    "boxplot=sns.boxplot(x='Initial_days',data=medical)\n",
    "# no outliers"
   ]
  },
  {
   "cell_type": "code",
   "execution_count": 17,
   "id": "7539b33e",
   "metadata": {},
   "outputs": [
    {
     "data": {
      "image/png": "[encoded data removed]",
      "text/plain": [
       "<Figure size 640x480 with 1 Axes>"
      ]
     },
     "metadata": {},
     "output_type": "display_data"
    }
   ],
   "source": [
    "# look at boxplot of TotalCharge variable\n",
    "boxplot=sns.boxplot(x='TotalCharge',data=medical)\n",
    "# no outliers"
   ]
  },
  {
   "cell_type": "code",
   "execution_count": 18,
   "id": "1f29b285",
   "metadata": {},
   "outputs": [
    {
     "data": {
      "image/png": "[encoded data removed]",
      "text/plain": [
       "<Figure size 640x480 with 1 Axes>"
      ]
     },
     "metadata": {},
     "output_type": "display_data"
    }
   ],
   "source": [
    "# look at boxplot of Additional_charges variable\n",
    "boxplot=sns.boxplot(x='Additional_charges',data=medical)\n",
    "# Outliers will be retained for expected diversity"
   ]
  },
  {
   "cell_type": "markdown",
   "id": "b6dd6b09",
   "metadata": {},
   "source": [
    "Dataset contained no duplicates and no null values. No outliers were treated because all data seemed relevant in a medical context"
   ]
  },
  {
   "cell_type": "markdown",
   "id": "04f18005",
   "metadata": {},
   "source": [
    "Begin re-expression of variables section"
   ]
  },
  {
   "cell_type": "code",
   "execution_count": 19,
   "id": "ef42f2ab",
   "metadata": {},
   "outputs": [],
   "source": [
    "# recode ReAdmis\n",
    "medical['ReAdmis_recode']=medical['ReAdmis'].replace({\"Yes\": 1, \"No\": 0})\n",
    "\n",
    "# recode soft drink\n",
    "medical['Soft_drink_recode']=medical['Soft_drink'].replace({\"Yes\": 1, \"No\": 0})\n",
    "\n",
    "# recode Diabetes\n",
    "medical['Diabetes_recode']=medical['Diabetes'].replace({\"Yes\": 1, \"No\": 0})\n",
    "\n",
    "# recode stroke\n",
    "medical['Stroke_recode']=medical['Stroke'].replace({\"Yes\": 1, \"No\": 0})\n",
    "\n",
    "# recode highblood\n",
    "medical['Highblood_recode']=medical['HighBlood'].replace({\"Yes\": 1, \"No\": 0})\n",
    "\n",
    "# recode arthritis\n",
    "medical['Arthritis_recode']=medical['Arthritis'].replace({\"Yes\": 1, \"No\": 0})\n",
    "\n",
    "# recode hyperlipidemia\n",
    "medical['Hyperlipidemia_recode']=medical['Hyperlipidemia'].replace({\"Yes\": 1, \"No\": 0})\n",
    "\n",
    "# recode backpain\n",
    "medical['BackPain_recode']=medical['BackPain'].replace({\"Yes\": 1, \"No\": 0})\n",
    "\n",
    "# recode anxiety\n",
    "medical['Anxiety_recode']=medical['Anxiety'].replace({\"Yes\": 1, \"No\": 0})\n",
    "\n",
    "# recode allergic rhinitis\n",
    "medical['Allergic_rhinitis_recode']=medical['Allergic_rhinitis'].replace({\"Yes\": 1, \"No\": 0})\n",
    "\n",
    "# recode reflux esophagitis\n",
    "medical['Reflux_esophagitis_recode']=medical['Reflux_esophagitis'].replace({\"Yes\": 1, \"No\": 0})\n",
    "\n",
    "# recode asthma\n",
    "medical['Asthma_recode']=medical['Asthma'].replace({\"Yes\": 1, \"No\": 0})\n",
    "\n",
    "# recode complication risk\n",
    "medical['Complication_risk_recode']=medical['Complication_risk'].replace({\"Low\": 0, \"Medium\": 1, \"High\": 2})\n",
    "\n",
    "# recode overweight\n",
    "medical['Overweight_recode']=medical['Overweight'].replace({\"Yes\": 1, \"No\": 0})\n",
    "\n",
    "# recode initial admin (emergency)\n",
    "medical['Emergency_recode']=medical['Initial_admin'].replace({\"Emergency Admission\": 1, \"Elective Admission\": 0, \n",
    "                                                       \"Observation Admission\": 0})\n",
    "# recode initial admin (elective)\n",
    "medical['Elective_recode']=medical['Initial_admin'].replace({\"Emergency Admission\": 0, \"Elective Admission\": 1, \n",
    "                                                       \"Observation Admission\": 0})\n",
    "# recode initial admin (observation)\n",
    "medical['Observation_recode']=medical['Initial_admin'].replace({\"Emergency Admission\": 0, \"Elective Admission\": 0, \n",
    "                                                       \"Observation Admission\": 1})\n",
    "# recode services (intravenous)\n",
    "medical['Intravenous_recode']=medical['Services'].replace({\"Intravenous\": 1, \"Blood Work\": 0, \n",
    "                                                       \"CT Scan\": 0, \"MRI\": 0})\n",
    "# recode services (CT Scan)\n",
    "medical['CTScan_recode']=medical['Services'].replace({\"Intravenous\": 0, \"Blood Work\": 0, \n",
    "                                                       \"CT Scan\": 1, \"MRI\": 0})\n",
    "# recode services (MRI)\n",
    "medical['MRI_recode']=medical['Services'].replace({\"Intravenous\": 0, \"Blood Work\": 0, \n",
    "                                                       \"CT Scan\": 0, \"MRI\": 1})\n",
    "# recode services (blood work)\n",
    "medical['BloodWork_recode']=medical['Services'].replace({\"Intravenous\": 0, \"Blood Work\": 1, \n",
    "                                                       \"CT Scan\": 0, \"MRI\": 0})\n",
    "# recode Area (suburban)\n",
    "medical['Suburban_recode']=medical['Area'].replace({\"Urban\": 0, \"Rural\": 0, \n",
    "                                                       \"Suburban\": 1})\n",
    "# recode Area (urban)\n",
    "medical['Urban_recode']=medical['Area'].replace({\"Urban\": 1, \"Rural\": 0, \n",
    "                                                       \"Suburban\": 0})\n",
    "# recode Area (rural)\n",
    "medical['Rural_recode']=medical['Area'].replace({\"Urban\": 0, \"Rural\": 1, \n",
    "                                                       \"Suburban\": 0})\n",
    "# recode marital (divorced)\n",
    "medical['Divorced_recode']=medical['Marital'].replace({\"Widowed\": 0, \"Married\": 0, \"Separated\": 0,\"Never Married\": 0, \n",
    "                                                       \"Divorced\": 1})\n",
    "# recode marital (married)\n",
    "medical['Married_recode']=medical['Marital'].replace({\"Widowed\": 0, \"Married\": 1, \"Separated\": 0,\"Never Married\": 0, \n",
    "                                                       \"Divorced\": 0})\n",
    "# recode marital (Never married)\n",
    "medical['NeverMarried_recode']=medical['Marital'].replace({\"Widowed\": 0, \"Married\": 0, \"Separated\": 0,\"Never Married\": 1, \n",
    "                                                       \"Divorced\": 0})\n",
    "# recode marital (widowed)\n",
    "medical['Widowed_recode']=medical['Marital'].replace({\"Widowed\": 1, \"Married\": 0, \"Separated\": 0,\"Never Married\": 0, \n",
    "                                                       \"Divorced\": 0})\n",
    "# recode marital (separated)\n",
    "medical['Separated_recode']=medical['Marital'].replace({\"Widowed\": 0, \"Married\": 0, \"Separated\": 1,\"Never Married\": 0, \n",
    "                                                       \"Divorced\": 0})\n",
    "# recode gender (nonbinary)\n",
    "medical['Nonbinary_recode']=medical['Gender'].replace({\"Male\": 0, \"Female\": 0, \"Nonbinary\": 1})\n",
    "\n",
    "# recode gender (male)\n",
    "medical['Male_recode']=medical['Gender'].replace({\"Male\": 1, \"Female\": 0, \"Nonbinary\": 0})\n",
    "\n",
    "# recode gender (female)\n",
    "medical['Female_recode']=medical['Gender'].replace({\"Male\": 0, \"Female\": 1, \"Nonbinary\": 0})"
   ]
  },
  {
   "cell_type": "code",
   "execution_count": 20,
   "id": "0e3e2280",
   "metadata": {},
   "outputs": [],
   "source": [
    "medical_std=medical.drop(['ReAdmis', 'Gender', 'Services', 'Marital', 'Area', 'Initial_admin', 'Soft_drink', 'HighBlood',\n",
    "                         'Stroke', 'Complication_risk', 'Overweight', 'Arthritis', 'Diabetes', 'Hyperlipidemia', 'BackPain',\n",
    "                         'Anxiety', 'Allergic_rhinitis', 'Reflux_esophagitis', 'Asthma', 'Customer_id', 'Interaction',\n",
    "                        'UID', 'City', 'State', 'County', 'Zip', 'Lat', 'Lng', 'TimeZone', 'Job', 'CaseOrder', 'Item1',\n",
    "                         'Item2','Item3','Item4','Item5','Item6','Item7','Item8'], axis=1)"
   ]
  },
  {
   "cell_type": "code",
   "execution_count": 21,
   "id": "03cac085",
   "metadata": {},
   "outputs": [],
   "source": [
    "# saving the dataframe 'medical_prepared' as a CSV file \n",
    "medical_std.to_csv('medical_prepared.csv', index = 'True')"
   ]
  },
  {
   "cell_type": "markdown",
   "id": "091bd09d",
   "metadata": {},
   "source": [
    "Do select K best for features signficance"
   ]
  },
  {
   "cell_type": "code",
   "execution_count": 22,
   "id": "02e4eee9",
   "metadata": {},
   "outputs": [
    {
     "name": "stdout",
     "output_type": "stream",
     "text": [
      "(10000, 42)\n",
      "(10000,)\n"
     ]
    }
   ],
   "source": [
    "X = medical_std.drop(['TotalCharge'],axis = 1)\n",
    "y = medical_std['TotalCharge']\n",
    "print(X.shape)\n",
    "print(y.shape)"
   ]
  },
  {
   "cell_type": "code",
   "execution_count": 23,
   "id": "e3fb47ca",
   "metadata": {},
   "outputs": [
    {
     "data": {
      "text/plain": [
       "(10000, 42)"
      ]
     },
     "execution_count": 23,
     "metadata": {},
     "output_type": "execute_result"
    }
   ],
   "source": [
    "feature_names = X.columns\n",
    "skbest = SelectKBest(score_func = f_classif, k='all')\n",
    "X_new = skbest.fit_transform(X, y)\n",
    "X_new.shape"
   ]
  },
  {
   "cell_type": "code",
   "execution_count": 24,
   "id": "2dd5b0ff",
   "metadata": {},
   "outputs": [
    {
     "name": "stdout",
     "output_type": "stream",
     "text": [
      "                Feature   p_value\n",
      "39     Nonbinary_recode  0.000000\n",
      "36  NeverMarried_recode  0.000000\n",
      "29           MRI_recode  0.000000\n",
      "21        Asthma_recode  0.000000\n",
      "18       Anxiety_recode  0.000000\n",
      "10       ReAdmis_recode  0.000000\n",
      "13        Stroke_recode  0.000000\n",
      "8          Initial_days  0.002924\n"
     ]
    }
   ],
   "source": [
    "### Finding P-values to select statistically significant features \n",
    "p_values = pd.DataFrame({'Feature': X.columns, 'p_value':skbest.pvalues_}).sort_values('p_value')\n",
    "sig_features=p_values[p_values['p_value'] < .05]\n",
    "\n",
    "# get features with lowest p values\n",
    "print(sig_features)"
   ]
  },
  {
   "cell_type": "markdown",
   "id": "59867e11",
   "metadata": {},
   "source": [
    "Split data into train and test "
   ]
  },
  {
   "cell_type": "code",
   "execution_count": 25,
   "id": "2069140b",
   "metadata": {},
   "outputs": [],
   "source": [
    "#included initial_days in model due to extremely low metric values without it\n",
    "X = medical_std[['NeverMarried_recode','MRI_recode','Asthma_recode','Stroke_recode','Initial_days']]\n",
    "y = medical_std['TotalCharge']\n",
    "X_train, X_test, y_train, y_test = train_test_split(X, y, test_size = 0.2, random_state=1)"
   ]
  },
  {
   "cell_type": "code",
   "execution_count": 26,
   "id": "615d0be1",
   "metadata": {},
   "outputs": [],
   "source": [
    "training_data=[X_train,y_train]\n",
    "med_train=pd.concat(training_data,axis=1)\n",
    "testing_data=[X_test, y_test]\n",
    "med_test=pd.concat(testing_data,axis=1)\n",
    "\n",
    "#save out data\n",
    "med_train.to_csv('medical_train.csv')\n",
    "med_test.to_csv('medical_test.csv')"
   ]
  },
  {
   "cell_type": "markdown",
   "id": "baa8d173",
   "metadata": {},
   "source": [
    "Tune hyperparameters"
   ]
  },
  {
   "cell_type": "code",
   "execution_count": 27,
   "id": "8f766a0b",
   "metadata": {},
   "outputs": [
    {
     "name": "stdout",
     "output_type": "stream",
     "text": [
      "Fitting 3 folds for each of 80 candidates, totalling 240 fits\n"
     ]
    }
   ],
   "source": [
    "#Defining parameter range \n",
    "params = {\"n_estimators\": [10,50,100,200],\n",
    "         \"max_features\": [1,2,3,4,5],\n",
    "         \"max_depth\": [2,4,8,None]\n",
    "         }\n",
    "rf = RandomForestRegressor(random_state=1)\n",
    "\n",
    "rf_grid = GridSearchCV(estimator = rf, param_grid= params, cv = 3, scoring = 'r2', verbose = 1) \n",
    "\n",
    "#Fitting the model for grid search \n",
    "rf_grid_search = rf_grid.fit(X, y) "
   ]
  },
  {
   "cell_type": "code",
   "execution_count": 28,
   "id": "8c6802ec",
   "metadata": {},
   "outputs": [
    {
     "name": "stdout",
     "output_type": "stream",
     "text": [
      "The best parameters for the RF model are: \n",
      "{'max_depth': 4, 'max_features': 5, 'n_estimators': 100}\n",
      "Training score MSE:  117260.38316827663\n",
      "Training score RMSE:  342.4330345750489\n",
      "Training score - R squared for training model 0.9752944593563277\n"
     ]
    }
   ],
   "source": [
    "#check best parameters and scores\n",
    "print('The best parameters for the RF model are: ') \n",
    "print(rf_grid_search.best_params_) \n",
    "\n",
    "y_train_pred=rf_grid_search.predict(X_train)\n",
    "\n",
    "print(\"Training score MSE: \",MSE(y_train,y_train_pred))\n",
    "print(\"Training score RMSE: \",(MSE(y_train,y_train_pred))**(1/2))\n",
    "print(\"Training score - R squared for training model\", r2_score(y_train,y_train_pred))"
   ]
  },
  {
   "cell_type": "markdown",
   "id": "247823e1",
   "metadata": {},
   "source": [
    "fit and run random forest model"
   ]
  },
  {
   "cell_type": "code",
   "execution_count": 29,
   "id": "4f329649",
   "metadata": {},
   "outputs": [
    {
     "name": "stdout",
     "output_type": "stream",
     "text": [
      "Test set MSE of rf_medical:  116922.74498895383\n",
      "Test set RMSE of rf_medical: 341.94\n",
      "Test score - R squared for training model 0.9755529690199615\n"
     ]
    }
   ],
   "source": [
    "#instantiate model\n",
    "rf_medical = RandomForestRegressor(n_estimators = 100, \n",
    "                                   max_features = 5,\n",
    "                                   max_depth = 4,\n",
    "                                   random_state=1,\n",
    "                                  ) \n",
    "#fit model\n",
    "rf_medical.fit(X_train, y_train) \n",
    "\n",
    "y_pred=rf_medical.predict(X_test)\n",
    "\n",
    "rmse_test = MSE(y_test,y_pred)**(1/2)\n",
    "\n",
    "print(\"Test set MSE of rf_medical: \",MSE(y_test,y_pred))\n",
    "print('Test set RMSE of rf_medical: {:.2f}'.format(rmse_test))\n",
    "print(\"Test score - R squared for training model\", r2_score(y_test,y_pred))"
   ]
  },
  {
   "cell_type": "code",
   "execution_count": 30,
   "id": "47abcdfa",
   "metadata": {},
   "outputs": [
    {
     "data": {
      "text/plain": [
       "<Axes: >"
      ]
     },
     "execution_count": 30,
     "metadata": {},
     "output_type": "execute_result"
    },
    {
     "data": {
      "image/png": "[encoded data removed]",
      "text/plain": [
       "<Figure size 640x480 with 1 Axes>"
      ]
     },
     "metadata": {},
     "output_type": "display_data"
    }
   ],
   "source": [
    "# feature importance\n",
    "importances = (rf_medical.feature_importances_)\n",
    "rf_importances = pd.Series(importances, index=X_train.columns)\n",
    "rf_importances_sorted=rf_importances.sort_values()\n",
    "\n",
    "rf_importances_sorted.plot(kind='barh',color='skyblue')\n",
    "# only initial_days had any importance in training the model"
   ]
  },
  {
   "cell_type": "code",
   "execution_count": null,
   "id": "5d13130a",
   "metadata": {},
   "outputs": [],
   "source": []
  }
 ],
 "metadata": {
  "kernelspec": {
   "display_name": "Python 3 (ipykernel)",
   "language": "python",
   "name": "python3"
  },
  "language_info": {
   "codemirror_mode": {
    "name": "ipython",
    "version": 3
   },
   "file_extension": ".py",
   "mimetype": "text/x-python",
   "name": "python",
   "nbconvert_exporter": "python",
   "pygments_lexer": "ipython3",
   "version": "3.11.11"
  }
 },
 "nbformat": 4,
 "nbformat_minor": 5
}
