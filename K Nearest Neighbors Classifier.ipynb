{
 "cells": [
  {
   "cell_type": "code",
   "execution_count": 1,
   "id": "4a6b5be4",
   "metadata": {},
   "outputs": [],
   "source": [
    "#importing packages and identifying/importing csv file\n",
    "import pandas as pd\n",
    "import warnings\n",
    "import statistics\n",
    "import seaborn as sns\n",
    "from sklearn.preprocessing import StandardScaler\n",
    "from sklearn.neighbors import KNeighborsClassifier\n",
    "from sklearn.model_selection import GridSearchCV\n",
    "from sklearn.metrics import confusion_matrix, roc_auc_score\n",
    "warnings.simplefilter(action='ignore', category=FutureWarning)\n",
    "medical=pd.read_csv('medical_clean.csv')"
   ]
  },
  {
   "cell_type": "code",
   "execution_count": 2,
   "id": "75fbb08f",
   "metadata": {},
   "outputs": [
    {
     "name": "stdout",
     "output_type": "stream",
     "text": [
      "<class 'pandas.core.frame.DataFrame'>\n",
      "RangeIndex: 10000 entries, 0 to 9999\n",
      "Data columns (total 50 columns):\n",
      " #   Column              Non-Null Count  Dtype  \n",
      "---  ------              --------------  -----  \n",
      " 0   CaseOrder           10000 non-null  int64  \n",
      " 1   Customer_id         10000 non-null  object \n",
      " 2   Interaction         10000 non-null  object \n",
      " 3   UID                 10000 non-null  object \n",
      " 4   City                10000 non-null  object \n",
      " 5   State               10000 non-null  object \n",
      " 6   County              10000 non-null  object \n",
      " 7   Zip                 10000 non-null  int64  \n",
      " 8   Lat                 10000 non-null  float64\n",
      " 9   Lng                 10000 non-null  float64\n",
      " 10  Population          10000 non-null  int64  \n",
      " 11  Area                10000 non-null  object \n",
      " 12  TimeZone            10000 non-null  object \n",
      " 13  Job                 10000 non-null  object \n",
      " 14  Children            10000 non-null  int64  \n",
      " 15  Age                 10000 non-null  int64  \n",
      " 16  Income              10000 non-null  float64\n",
      " 17  Marital             10000 non-null  object \n",
      " 18  Gender              10000 non-null  object \n",
      " 19  ReAdmis             10000 non-null  object \n",
      " 20  VitD_levels         10000 non-null  float64\n",
      " 21  Doc_visits          10000 non-null  int64  \n",
      " 22  Full_meals_eaten    10000 non-null  int64  \n",
      " 23  vitD_supp           10000 non-null  int64  \n",
      " 24  Soft_drink          10000 non-null  object \n",
      " 25  Initial_admin       10000 non-null  object \n",
      " 26  HighBlood           10000 non-null  object \n",
      " 27  Stroke              10000 non-null  object \n",
      " 28  Complication_risk   10000 non-null  object \n",
      " 29  Overweight          10000 non-null  object \n",
      " 30  Arthritis           10000 non-null  object \n",
      " 31  Diabetes            10000 non-null  object \n",
      " 32  Hyperlipidemia      10000 non-null  object \n",
      " 33  BackPain            10000 non-null  object \n",
      " 34  Anxiety             10000 non-null  object \n",
      " 35  Allergic_rhinitis   10000 non-null  object \n",
      " 36  Reflux_esophagitis  10000 non-null  object \n",
      " 37  Asthma              10000 non-null  object \n",
      " 38  Services            10000 non-null  object \n",
      " 39  Initial_days        10000 non-null  float64\n",
      " 40  TotalCharge         10000 non-null  float64\n",
      " 41  Additional_charges  10000 non-null  float64\n",
      " 42  Item1               10000 non-null  int64  \n",
      " 43  Item2               10000 non-null  int64  \n",
      " 44  Item3               10000 non-null  int64  \n",
      " 45  Item4               10000 non-null  int64  \n",
      " 46  Item5               10000 non-null  int64  \n",
      " 47  Item6               10000 non-null  int64  \n",
      " 48  Item7               10000 non-null  int64  \n",
      " 49  Item8               10000 non-null  int64  \n",
      "dtypes: float64(7), int64(16), object(27)\n",
      "memory usage: 3.8+ MB\n"
     ]
    }
   ],
   "source": [
    "# profiling dataframe. No null values\n",
    "medical.info()"
   ]
  },
  {
   "cell_type": "code",
   "execution_count": 3,
   "id": "7a7f1fdc",
   "metadata": {},
   "outputs": [
    {
     "data": {
      "text/html": [
       "<div>\n",
       "<style scoped>\n",
       "    .dataframe tbody tr th:only-of-type {\n",
       "        vertical-align: middle;\n",
       "    }\n",
       "\n",
       "    .dataframe tbody tr th {\n",
       "        vertical-align: top;\n",
       "    }\n",
       "\n",
       "    .dataframe thead th {\n",
       "        text-align: right;\n",
       "    }\n",
       "</style>\n",
       "<table border=\"1\" class=\"dataframe\">\n",
       "  <thead>\n",
       "    <tr style=\"text-align: right;\">\n",
       "      <th></th>\n",
       "      <th>CaseOrder</th>\n",
       "      <th>Zip</th>\n",
       "      <th>Lat</th>\n",
       "      <th>Lng</th>\n",
       "      <th>Population</th>\n",
       "      <th>Children</th>\n",
       "      <th>Age</th>\n",
       "      <th>Income</th>\n",
       "      <th>VitD_levels</th>\n",
       "      <th>Doc_visits</th>\n",
       "      <th>...</th>\n",
       "      <th>TotalCharge</th>\n",
       "      <th>Additional_charges</th>\n",
       "      <th>Item1</th>\n",
       "      <th>Item2</th>\n",
       "      <th>Item3</th>\n",
       "      <th>Item4</th>\n",
       "      <th>Item5</th>\n",
       "      <th>Item6</th>\n",
       "      <th>Item7</th>\n",
       "      <th>Item8</th>\n",
       "    </tr>\n",
       "  </thead>\n",
       "  <tbody>\n",
       "    <tr>\n",
       "      <th>count</th>\n",
       "      <td>10000.00000</td>\n",
       "      <td>10000.000000</td>\n",
       "      <td>10000.000000</td>\n",
       "      <td>10000.000000</td>\n",
       "      <td>10000.000000</td>\n",
       "      <td>10000.000000</td>\n",
       "      <td>10000.000000</td>\n",
       "      <td>10000.000000</td>\n",
       "      <td>10000.000000</td>\n",
       "      <td>10000.000000</td>\n",
       "      <td>...</td>\n",
       "      <td>10000.000000</td>\n",
       "      <td>10000.000000</td>\n",
       "      <td>10000.000000</td>\n",
       "      <td>10000.000000</td>\n",
       "      <td>10000.000000</td>\n",
       "      <td>10000.000000</td>\n",
       "      <td>10000.000000</td>\n",
       "      <td>10000.000000</td>\n",
       "      <td>10000.000000</td>\n",
       "      <td>10000.000000</td>\n",
       "    </tr>\n",
       "    <tr>\n",
       "      <th>mean</th>\n",
       "      <td>5000.50000</td>\n",
       "      <td>50159.323900</td>\n",
       "      <td>38.751099</td>\n",
       "      <td>-91.243080</td>\n",
       "      <td>9965.253800</td>\n",
       "      <td>2.097200</td>\n",
       "      <td>53.511700</td>\n",
       "      <td>40490.495160</td>\n",
       "      <td>17.964262</td>\n",
       "      <td>5.012200</td>\n",
       "      <td>...</td>\n",
       "      <td>5312.172769</td>\n",
       "      <td>12934.528587</td>\n",
       "      <td>3.518800</td>\n",
       "      <td>3.506700</td>\n",
       "      <td>3.511100</td>\n",
       "      <td>3.515100</td>\n",
       "      <td>3.496900</td>\n",
       "      <td>3.522500</td>\n",
       "      <td>3.494000</td>\n",
       "      <td>3.509700</td>\n",
       "    </tr>\n",
       "    <tr>\n",
       "      <th>std</th>\n",
       "      <td>2886.89568</td>\n",
       "      <td>27469.588208</td>\n",
       "      <td>5.403085</td>\n",
       "      <td>15.205998</td>\n",
       "      <td>14824.758614</td>\n",
       "      <td>2.163659</td>\n",
       "      <td>20.638538</td>\n",
       "      <td>28521.153293</td>\n",
       "      <td>2.017231</td>\n",
       "      <td>1.045734</td>\n",
       "      <td>...</td>\n",
       "      <td>2180.393838</td>\n",
       "      <td>6542.601544</td>\n",
       "      <td>1.031966</td>\n",
       "      <td>1.034825</td>\n",
       "      <td>1.032755</td>\n",
       "      <td>1.036282</td>\n",
       "      <td>1.030192</td>\n",
       "      <td>1.032376</td>\n",
       "      <td>1.021405</td>\n",
       "      <td>1.042312</td>\n",
       "    </tr>\n",
       "    <tr>\n",
       "      <th>min</th>\n",
       "      <td>1.00000</td>\n",
       "      <td>610.000000</td>\n",
       "      <td>17.967190</td>\n",
       "      <td>-174.209700</td>\n",
       "      <td>0.000000</td>\n",
       "      <td>0.000000</td>\n",
       "      <td>18.000000</td>\n",
       "      <td>154.080000</td>\n",
       "      <td>9.806483</td>\n",
       "      <td>1.000000</td>\n",
       "      <td>...</td>\n",
       "      <td>1938.312067</td>\n",
       "      <td>3125.703000</td>\n",
       "      <td>1.000000</td>\n",
       "      <td>1.000000</td>\n",
       "      <td>1.000000</td>\n",
       "      <td>1.000000</td>\n",
       "      <td>1.000000</td>\n",
       "      <td>1.000000</td>\n",
       "      <td>1.000000</td>\n",
       "      <td>1.000000</td>\n",
       "    </tr>\n",
       "    <tr>\n",
       "      <th>25%</th>\n",
       "      <td>2500.75000</td>\n",
       "      <td>27592.000000</td>\n",
       "      <td>35.255120</td>\n",
       "      <td>-97.352982</td>\n",
       "      <td>694.750000</td>\n",
       "      <td>0.000000</td>\n",
       "      <td>36.000000</td>\n",
       "      <td>19598.775000</td>\n",
       "      <td>16.626439</td>\n",
       "      <td>4.000000</td>\n",
       "      <td>...</td>\n",
       "      <td>3179.374015</td>\n",
       "      <td>7986.487755</td>\n",
       "      <td>3.000000</td>\n",
       "      <td>3.000000</td>\n",
       "      <td>3.000000</td>\n",
       "      <td>3.000000</td>\n",
       "      <td>3.000000</td>\n",
       "      <td>3.000000</td>\n",
       "      <td>3.000000</td>\n",
       "      <td>3.000000</td>\n",
       "    </tr>\n",
       "    <tr>\n",
       "      <th>50%</th>\n",
       "      <td>5000.50000</td>\n",
       "      <td>50207.000000</td>\n",
       "      <td>39.419355</td>\n",
       "      <td>-88.397230</td>\n",
       "      <td>2769.000000</td>\n",
       "      <td>1.000000</td>\n",
       "      <td>53.000000</td>\n",
       "      <td>33768.420000</td>\n",
       "      <td>17.951122</td>\n",
       "      <td>5.000000</td>\n",
       "      <td>...</td>\n",
       "      <td>5213.952000</td>\n",
       "      <td>11573.977735</td>\n",
       "      <td>4.000000</td>\n",
       "      <td>3.000000</td>\n",
       "      <td>4.000000</td>\n",
       "      <td>4.000000</td>\n",
       "      <td>3.000000</td>\n",
       "      <td>4.000000</td>\n",
       "      <td>3.000000</td>\n",
       "      <td>3.000000</td>\n",
       "    </tr>\n",
       "    <tr>\n",
       "      <th>75%</th>\n",
       "      <td>7500.25000</td>\n",
       "      <td>72411.750000</td>\n",
       "      <td>42.044175</td>\n",
       "      <td>-80.438050</td>\n",
       "      <td>13945.000000</td>\n",
       "      <td>3.000000</td>\n",
       "      <td>71.000000</td>\n",
       "      <td>54296.402500</td>\n",
       "      <td>19.347963</td>\n",
       "      <td>6.000000</td>\n",
       "      <td>...</td>\n",
       "      <td>7459.699750</td>\n",
       "      <td>15626.490000</td>\n",
       "      <td>4.000000</td>\n",
       "      <td>4.000000</td>\n",
       "      <td>4.000000</td>\n",
       "      <td>4.000000</td>\n",
       "      <td>4.000000</td>\n",
       "      <td>4.000000</td>\n",
       "      <td>4.000000</td>\n",
       "      <td>4.000000</td>\n",
       "    </tr>\n",
       "    <tr>\n",
       "      <th>max</th>\n",
       "      <td>10000.00000</td>\n",
       "      <td>99929.000000</td>\n",
       "      <td>70.560990</td>\n",
       "      <td>-65.290170</td>\n",
       "      <td>122814.000000</td>\n",
       "      <td>10.000000</td>\n",
       "      <td>89.000000</td>\n",
       "      <td>207249.100000</td>\n",
       "      <td>26.394449</td>\n",
       "      <td>9.000000</td>\n",
       "      <td>...</td>\n",
       "      <td>9180.728000</td>\n",
       "      <td>30566.070000</td>\n",
       "      <td>8.000000</td>\n",
       "      <td>7.000000</td>\n",
       "      <td>8.000000</td>\n",
       "      <td>7.000000</td>\n",
       "      <td>7.000000</td>\n",
       "      <td>7.000000</td>\n",
       "      <td>7.000000</td>\n",
       "      <td>7.000000</td>\n",
       "    </tr>\n",
       "  </tbody>\n",
       "</table>\n",
       "<p>8 rows × 23 columns</p>\n",
       "</div>"
      ],
      "text/plain": [
       "         CaseOrder           Zip           Lat           Lng     Population  \\\n",
       "count  10000.00000  10000.000000  10000.000000  10000.000000   10000.000000   \n",
       "mean    5000.50000  50159.323900     38.751099    -91.243080    9965.253800   \n",
       "std     2886.89568  27469.588208      5.403085     15.205998   14824.758614   \n",
       "min        1.00000    610.000000     17.967190   -174.209700       0.000000   \n",
       "25%     2500.75000  27592.000000     35.255120    -97.352982     694.750000   \n",
       "50%     5000.50000  50207.000000     39.419355    -88.397230    2769.000000   \n",
       "75%     7500.25000  72411.750000     42.044175    -80.438050   13945.000000   \n",
       "max    10000.00000  99929.000000     70.560990    -65.290170  122814.000000   \n",
       "\n",
       "           Children           Age         Income   VitD_levels    Doc_visits  \\\n",
       "count  10000.000000  10000.000000   10000.000000  10000.000000  10000.000000   \n",
       "mean       2.097200     53.511700   40490.495160     17.964262      5.012200   \n",
       "std        2.163659     20.638538   28521.153293      2.017231      1.045734   \n",
       "min        0.000000     18.000000     154.080000      9.806483      1.000000   \n",
       "25%        0.000000     36.000000   19598.775000     16.626439      4.000000   \n",
       "50%        1.000000     53.000000   33768.420000     17.951122      5.000000   \n",
       "75%        3.000000     71.000000   54296.402500     19.347963      6.000000   \n",
       "max       10.000000     89.000000  207249.100000     26.394449      9.000000   \n",
       "\n",
       "       ...   TotalCharge  Additional_charges         Item1         Item2  \\\n",
       "count  ...  10000.000000        10000.000000  10000.000000  10000.000000   \n",
       "mean   ...   5312.172769        12934.528587      3.518800      3.506700   \n",
       "std    ...   2180.393838         6542.601544      1.031966      1.034825   \n",
       "min    ...   1938.312067         3125.703000      1.000000      1.000000   \n",
       "25%    ...   3179.374015         7986.487755      3.000000      3.000000   \n",
       "50%    ...   5213.952000        11573.977735      4.000000      3.000000   \n",
       "75%    ...   7459.699750        15626.490000      4.000000      4.000000   \n",
       "max    ...   9180.728000        30566.070000      8.000000      7.000000   \n",
       "\n",
       "              Item3         Item4         Item5         Item6         Item7  \\\n",
       "count  10000.000000  10000.000000  10000.000000  10000.000000  10000.000000   \n",
       "mean       3.511100      3.515100      3.496900      3.522500      3.494000   \n",
       "std        1.032755      1.036282      1.030192      1.032376      1.021405   \n",
       "min        1.000000      1.000000      1.000000      1.000000      1.000000   \n",
       "25%        3.000000      3.000000      3.000000      3.000000      3.000000   \n",
       "50%        4.000000      4.000000      3.000000      4.000000      3.000000   \n",
       "75%        4.000000      4.000000      4.000000      4.000000      4.000000   \n",
       "max        8.000000      7.000000      7.000000      7.000000      7.000000   \n",
       "\n",
       "              Item8  \n",
       "count  10000.000000  \n",
       "mean       3.509700  \n",
       "std        1.042312  \n",
       "min        1.000000  \n",
       "25%        3.000000  \n",
       "50%        3.000000  \n",
       "75%        4.000000  \n",
       "max        7.000000  \n",
       "\n",
       "[8 rows x 23 columns]"
      ]
     },
     "execution_count": 3,
     "metadata": {},
     "output_type": "execute_result"
    }
   ],
   "source": [
    "medical.describe()"
   ]
  },
  {
   "cell_type": "markdown",
   "id": "3c875cda",
   "metadata": {},
   "source": [
    "Begin identifying duplicates section"
   ]
  },
  {
   "cell_type": "code",
   "execution_count": 4,
   "id": "20bdbb57",
   "metadata": {},
   "outputs": [
    {
     "data": {
      "text/plain": [
       "0       False\n",
       "1       False\n",
       "2       False\n",
       "3       False\n",
       "4       False\n",
       "        ...  \n",
       "9995    False\n",
       "9996    False\n",
       "9997    False\n",
       "9998    False\n",
       "9999    False\n",
       "Length: 10000, dtype: bool"
      ]
     },
     "execution_count": 4,
     "metadata": {},
     "output_type": "execute_result"
    }
   ],
   "source": [
    "# identifying any duplicates\n",
    "medical.duplicated()"
   ]
  },
  {
   "cell_type": "code",
   "execution_count": 5,
   "id": "36c2e20c",
   "metadata": {},
   "outputs": [
    {
     "name": "stdout",
     "output_type": "stream",
     "text": [
      "False    10000\n",
      "Name: count, dtype: int64\n"
     ]
    }
   ],
   "source": [
    "# seeing full value count of duplicates: no duplicates in file\n",
    "print(medical.duplicated().value_counts())"
   ]
  },
  {
   "cell_type": "markdown",
   "id": "0749ebdf",
   "metadata": {},
   "source": [
    "Begin missing data identification section"
   ]
  },
  {
   "cell_type": "code",
   "execution_count": 6,
   "id": "bbc08881",
   "metadata": {},
   "outputs": [
    {
     "data": {
      "text/plain": [
       "CaseOrder             0\n",
       "Customer_id           0\n",
       "Interaction           0\n",
       "UID                   0\n",
       "City                  0\n",
       "State                 0\n",
       "County                0\n",
       "Zip                   0\n",
       "Lat                   0\n",
       "Lng                   0\n",
       "Population            0\n",
       "Area                  0\n",
       "TimeZone              0\n",
       "Job                   0\n",
       "Children              0\n",
       "Age                   0\n",
       "Income                0\n",
       "Marital               0\n",
       "Gender                0\n",
       "ReAdmis               0\n",
       "VitD_levels           0\n",
       "Doc_visits            0\n",
       "Full_meals_eaten      0\n",
       "vitD_supp             0\n",
       "Soft_drink            0\n",
       "Initial_admin         0\n",
       "HighBlood             0\n",
       "Stroke                0\n",
       "Complication_risk     0\n",
       "Overweight            0\n",
       "Arthritis             0\n",
       "Diabetes              0\n",
       "Hyperlipidemia        0\n",
       "BackPain              0\n",
       "Anxiety               0\n",
       "Allergic_rhinitis     0\n",
       "Reflux_esophagitis    0\n",
       "Asthma                0\n",
       "Services              0\n",
       "Initial_days          0\n",
       "TotalCharge           0\n",
       "Additional_charges    0\n",
       "Item1                 0\n",
       "Item2                 0\n",
       "Item3                 0\n",
       "Item4                 0\n",
       "Item5                 0\n",
       "Item6                 0\n",
       "Item7                 0\n",
       "Item8                 0\n",
       "dtype: int64"
      ]
     },
     "execution_count": 6,
     "metadata": {},
     "output_type": "execute_result"
    }
   ],
   "source": [
    "# looking into missing data\n",
    "medical.isnull().sum()"
   ]
  },
  {
   "cell_type": "code",
   "execution_count": 7,
   "id": "6a0069f7",
   "metadata": {},
   "outputs": [
    {
     "data": {
      "image/png": "[encoded data removed]",
      "text/plain": [
       "<Figure size 640x480 with 1 Axes>"
      ]
     },
     "metadata": {},
     "output_type": "display_data"
    }
   ],
   "source": [
    "# look at boxplot of Population variable to identify outliers\n",
    "boxplot=sns.boxplot(x='Population',data=medical)\n",
    "# Outliers will be retained due to the large number of outliers and the expected diversity"
   ]
  },
  {
   "cell_type": "code",
   "execution_count": 8,
   "id": "4ae0c7ca",
   "metadata": {},
   "outputs": [
    {
     "data": {
      "image/png": "[encoded data removed]",
      "text/plain": [
       "<Figure size 640x480 with 1 Axes>"
      ]
     },
     "metadata": {},
     "output_type": "display_data"
    }
   ],
   "source": [
    "# look at boxplot of Children variable to identify outliers\n",
    "boxplot=sns.boxplot(x='Children',data=medical) \n",
    "# outliers will be retained because these values are expected diversity"
   ]
  },
  {
   "cell_type": "code",
   "execution_count": 9,
   "id": "2de273d3",
   "metadata": {},
   "outputs": [
    {
     "data": {
      "image/png": "[encoded data removed]",
      "text/plain": [
       "<Figure size 640x480 with 1 Axes>"
      ]
     },
     "metadata": {},
     "output_type": "display_data"
    }
   ],
   "source": [
    "# look at boxplot of Age variable to identify outliers\n",
    "boxplot=sns.boxplot(x='Age',data=medical) \n",
    "# no outliers"
   ]
  },
  {
   "cell_type": "code",
   "execution_count": 10,
   "id": "6c3e4d2f",
   "metadata": {},
   "outputs": [
    {
     "data": {
      "image/png": "[encoded data removed]",
      "text/plain": [
       "<Figure size 640x480 with 1 Axes>"
      ]
     },
     "metadata": {},
     "output_type": "display_data"
    }
   ],
   "source": [
    "# look at boxplot of Income variable to identify outliers\n",
    "boxplot=sns.boxplot(x='Income',data=medical) \n",
    "# Outliers will be retained because they add expected diversity"
   ]
  },
  {
   "cell_type": "code",
   "execution_count": 11,
   "id": "b7660f6a",
   "metadata": {},
   "outputs": [
    {
     "data": {
      "image/png": "[encoded data removed]",
      "text/plain": [
       "<Figure size 640x480 with 1 Axes>"
      ]
     },
     "metadata": {},
     "output_type": "display_data"
    }
   ],
   "source": [
    "# look at boxplot of vit D levels variable to identify outliers\n",
    "boxplot=sns.boxplot(x='VitD_levels',data=medical) \n",
    "# Outliers will be retained"
   ]
  },
  {
   "cell_type": "code",
   "execution_count": 12,
   "id": "31a8748d",
   "metadata": {},
   "outputs": [
    {
     "data": {
      "image/png": "[encoded data removed]",
      "text/plain": [
       "<Figure size 640x480 with 1 Axes>"
      ]
     },
     "metadata": {},
     "output_type": "display_data"
    }
   ],
   "source": [
    "# look at boxplot of doc visits variable\n",
    "boxplot=sns.boxplot(x='Doc_visits',data=medical) \n",
    "# no outliers"
   ]
  },
  {
   "cell_type": "code",
   "execution_count": 13,
   "id": "abb63b63",
   "metadata": {},
   "outputs": [
    {
     "data": {
      "image/png": "[encoded data removed]",
      "text/plain": [
       "<Figure size 640x480 with 1 Axes>"
      ]
     },
     "metadata": {},
     "output_type": "display_data"
    }
   ],
   "source": [
    "# look at boxplot of full meals eaten variable\n",
    "boxplot=sns.boxplot(x='Full_meals_eaten',data=medical) \n",
    "# Outliers will be retained"
   ]
  },
  {
   "cell_type": "code",
   "execution_count": 14,
   "id": "bea1ed62",
   "metadata": {},
   "outputs": [
    {
     "data": {
      "image/png": "[encoded data removed]",
      "text/plain": [
       "<Figure size 640x480 with 1 Axes>"
      ]
     },
     "metadata": {},
     "output_type": "display_data"
    }
   ],
   "source": [
    "# look at boxplot of vit D supplement variable\n",
    "boxplot=sns.boxplot(x='vitD_supp',data=medical)\n",
    "# Outliers will be retained"
   ]
  },
  {
   "cell_type": "code",
   "execution_count": 15,
   "id": "a4e52bb9",
   "metadata": {},
   "outputs": [
    {
     "data": {
      "image/png": "[encoded data removed]",
      "text/plain": [
       "<Figure size 640x480 with 1 Axes>"
      ]
     },
     "metadata": {},
     "output_type": "display_data"
    }
   ],
   "source": [
    "# look at boxplot of initial days variable\n",
    "boxplot=sns.boxplot(x='Initial_days',data=medical)\n",
    "# no outliers"
   ]
  },
  {
   "cell_type": "code",
   "execution_count": 16,
   "id": "7539b33e",
   "metadata": {},
   "outputs": [
    {
     "data": {
      "image/png": "[encoded data removed]",
      "text/plain": [
       "<Figure size 640x480 with 1 Axes>"
      ]
     },
     "metadata": {},
     "output_type": "display_data"
    }
   ],
   "source": [
    "# look at boxplot of TotalCharge variable\n",
    "boxplot=sns.boxplot(x='TotalCharge',data=medical)\n",
    "# no outliers"
   ]
  },
  {
   "cell_type": "code",
   "execution_count": 17,
   "id": "1f29b285",
   "metadata": {},
   "outputs": [
    {
     "data": {
      "image/png": "[encoded data removed]",
      "text/plain": [
       "<Figure size 640x480 with 1 Axes>"
      ]
     },
     "metadata": {},
     "output_type": "display_data"
    }
   ],
   "source": [
    "# look at boxplot of Additional_charges variable\n",
    "boxplot=sns.boxplot(x='Additional_charges',data=medical)\n",
    "# Outliers will be retained for expected diversity"
   ]
  },
  {
   "cell_type": "code",
   "execution_count": 18,
   "id": "3f30ef44",
   "metadata": {},
   "outputs": [
    {
     "data": {
      "text/plain": [
       "ReAdmis_numeric\n",
       "0    6331\n",
       "1    3669\n",
       "Name: count, dtype: int64"
      ]
     },
     "execution_count": 18,
     "metadata": {},
     "output_type": "execute_result"
    }
   ],
   "source": [
    "# recode ReAdmis into numeric\n",
    "medical['ReAdmis_numeric']=medical['ReAdmis'].replace({\"Yes\": 1, \"No\": 0})\n",
    "medical.ReAdmis_numeric.value_counts()"
   ]
  },
  {
   "cell_type": "code",
   "execution_count": 19,
   "id": "ed01784e",
   "metadata": {},
   "outputs": [
    {
     "data": {
      "text/plain": [
       "Soft_drink_numeric\n",
       "0    7425\n",
       "1    2575\n",
       "Name: count, dtype: int64"
      ]
     },
     "execution_count": 19,
     "metadata": {},
     "output_type": "execute_result"
    }
   ],
   "source": [
    "# recode soft drink into numeric\n",
    "medical['Soft_drink_numeric']=medical['Soft_drink'].replace({\"Yes\": 1, \"No\": 0})\n",
    "medical.Soft_drink_numeric.value_counts()"
   ]
  },
  {
   "cell_type": "code",
   "execution_count": 20,
   "id": "1441f839",
   "metadata": {},
   "outputs": [
    {
     "data": {
      "text/plain": [
       "Diabetes_numeric\n",
       "0    7262\n",
       "1    2738\n",
       "Name: count, dtype: int64"
      ]
     },
     "execution_count": 20,
     "metadata": {},
     "output_type": "execute_result"
    }
   ],
   "source": [
    "# recode Diabetes into numeric\n",
    "medical['Diabetes_numeric']=medical['Diabetes'].replace({\"Yes\": 1, \"No\": 0})\n",
    "medical.Diabetes_numeric.value_counts()"
   ]
  },
  {
   "cell_type": "code",
   "execution_count": 21,
   "id": "dfbf0745",
   "metadata": {},
   "outputs": [
    {
     "data": {
      "text/plain": [
       "Stroke_numeric\n",
       "0    8007\n",
       "1    1993\n",
       "Name: count, dtype: int64"
      ]
     },
     "execution_count": 21,
     "metadata": {},
     "output_type": "execute_result"
    }
   ],
   "source": [
    "# recode stroke into numeric\n",
    "medical['Stroke_numeric']=medical['Stroke'].replace({\"Yes\": 1, \"No\": 0})\n",
    "medical.Stroke_numeric.value_counts()"
   ]
  },
  {
   "cell_type": "code",
   "execution_count": 22,
   "id": "3966956c",
   "metadata": {},
   "outputs": [
    {
     "data": {
      "text/plain": [
       "Highblood_numeric\n",
       "0    5910\n",
       "1    4090\n",
       "Name: count, dtype: int64"
      ]
     },
     "execution_count": 22,
     "metadata": {},
     "output_type": "execute_result"
    }
   ],
   "source": [
    "# recode highblood into numeric\n",
    "medical['Highblood_numeric']=medical['HighBlood'].replace({\"Yes\": 1, \"No\": 0})\n",
    "medical.Highblood_numeric.value_counts()"
   ]
  },
  {
   "cell_type": "code",
   "execution_count": 23,
   "id": "3b4ca62f",
   "metadata": {},
   "outputs": [
    {
     "data": {
      "text/plain": [
       "Arthritis_numeric\n",
       "0    6426\n",
       "1    3574\n",
       "Name: count, dtype: int64"
      ]
     },
     "execution_count": 23,
     "metadata": {},
     "output_type": "execute_result"
    }
   ],
   "source": [
    "# recode arthritis into numeric\n",
    "medical['Arthritis_numeric']=medical['Arthritis'].replace({\"Yes\": 1, \"No\": 0})\n",
    "medical.Arthritis_numeric.value_counts()"
   ]
  },
  {
   "cell_type": "code",
   "execution_count": 24,
   "id": "96643252",
   "metadata": {},
   "outputs": [
    {
     "data": {
      "text/plain": [
       "Hyperlipidemia_numeric\n",
       "0    6628\n",
       "1    3372\n",
       "Name: count, dtype: int64"
      ]
     },
     "execution_count": 24,
     "metadata": {},
     "output_type": "execute_result"
    }
   ],
   "source": [
    "# recode hyperlipidemia into numeric\n",
    "medical['Hyperlipidemia_numeric']=medical['Hyperlipidemia'].replace({\"Yes\": 1, \"No\": 0})\n",
    "medical.Hyperlipidemia_numeric.value_counts()"
   ]
  },
  {
   "cell_type": "code",
   "execution_count": 25,
   "id": "f0953ca3",
   "metadata": {},
   "outputs": [
    {
     "data": {
      "text/plain": [
       "BackPain_numeric\n",
       "0    5886\n",
       "1    4114\n",
       "Name: count, dtype: int64"
      ]
     },
     "execution_count": 25,
     "metadata": {},
     "output_type": "execute_result"
    }
   ],
   "source": [
    "# recode backpain into numeric\n",
    "medical['BackPain_numeric']=medical['BackPain'].replace({\"Yes\": 1, \"No\": 0})\n",
    "medical.BackPain_numeric.value_counts()"
   ]
  },
  {
   "cell_type": "code",
   "execution_count": 26,
   "id": "70e9b40b",
   "metadata": {},
   "outputs": [
    {
     "data": {
      "text/plain": [
       "Anxiety_numeric\n",
       "0    6785\n",
       "1    3215\n",
       "Name: count, dtype: int64"
      ]
     },
     "execution_count": 26,
     "metadata": {},
     "output_type": "execute_result"
    }
   ],
   "source": [
    "# recode anxiety into numeric\n",
    "medical['Anxiety_numeric']=medical['Anxiety'].replace({\"Yes\": 1, \"No\": 0})\n",
    "medical.Anxiety_numeric.value_counts()"
   ]
  },
  {
   "cell_type": "code",
   "execution_count": 27,
   "id": "45c14706",
   "metadata": {},
   "outputs": [
    {
     "data": {
      "text/plain": [
       "Allergic_rhinitis_numeric\n",
       "0    6059\n",
       "1    3941\n",
       "Name: count, dtype: int64"
      ]
     },
     "execution_count": 27,
     "metadata": {},
     "output_type": "execute_result"
    }
   ],
   "source": [
    "# recode allergic rhinitis into numeric\n",
    "medical['Allergic_rhinitis_numeric']=medical['Allergic_rhinitis'].replace({\"Yes\": 1, \"No\": 0})\n",
    "medical.Allergic_rhinitis_numeric.value_counts()"
   ]
  },
  {
   "cell_type": "code",
   "execution_count": 28,
   "id": "d876c590",
   "metadata": {},
   "outputs": [
    {
     "data": {
      "text/plain": [
       "Reflux_esophagitis_numeric\n",
       "0    5865\n",
       "1    4135\n",
       "Name: count, dtype: int64"
      ]
     },
     "execution_count": 28,
     "metadata": {},
     "output_type": "execute_result"
    }
   ],
   "source": [
    "# recode reflux esophagitis into numeric\n",
    "medical['Reflux_esophagitis_numeric']=medical['Reflux_esophagitis'].replace({\"Yes\": 1, \"No\": 0})\n",
    "medical.Reflux_esophagitis_numeric.value_counts()"
   ]
  },
  {
   "cell_type": "code",
   "execution_count": 29,
   "id": "05af9b09",
   "metadata": {},
   "outputs": [
    {
     "data": {
      "text/plain": [
       "Asthma_numeric\n",
       "0    7107\n",
       "1    2893\n",
       "Name: count, dtype: int64"
      ]
     },
     "execution_count": 29,
     "metadata": {},
     "output_type": "execute_result"
    }
   ],
   "source": [
    "# recode asthma into numeric\n",
    "medical['Asthma_numeric']=medical['Asthma'].replace({\"Yes\": 1, \"No\": 0})\n",
    "medical.Asthma_numeric.value_counts()"
   ]
  },
  {
   "cell_type": "code",
   "execution_count": 30,
   "id": "611a275e",
   "metadata": {
    "scrolled": true
   },
   "outputs": [
    {
     "data": {
      "text/plain": [
       "Complication_risk_numeric\n",
       "1    4517\n",
       "2    3358\n",
       "0    2125\n",
       "Name: count, dtype: int64"
      ]
     },
     "execution_count": 30,
     "metadata": {},
     "output_type": "execute_result"
    }
   ],
   "source": [
    "# recode complication risk into numeric\n",
    "medical['Complication_risk_numeric']=medical['Complication_risk'].replace({\"Low\": 0, \"Medium\": 1, \"High\": 2})\n",
    "medical.Complication_risk_numeric.value_counts()"
   ]
  },
  {
   "cell_type": "code",
   "execution_count": 31,
   "id": "7c318a99",
   "metadata": {},
   "outputs": [
    {
     "data": {
      "text/plain": [
       "Overweight_numeric\n",
       "1    7094\n",
       "0    2906\n",
       "Name: count, dtype: int64"
      ]
     },
     "execution_count": 31,
     "metadata": {},
     "output_type": "execute_result"
    }
   ],
   "source": [
    "# recode overweight into numeric\n",
    "medical['Overweight_numeric']=medical['Overweight'].replace({\"Yes\": 1, \"No\": 0})\n",
    "medical.Overweight_numeric.value_counts()"
   ]
  },
  {
   "cell_type": "code",
   "execution_count": 32,
   "id": "28d126cf",
   "metadata": {},
   "outputs": [
    {
     "data": {
      "text/plain": [
       "Emergency_numeric\n",
       "1    5060\n",
       "0    4940\n",
       "Name: count, dtype: int64"
      ]
     },
     "execution_count": 32,
     "metadata": {},
     "output_type": "execute_result"
    }
   ],
   "source": [
    "# one hot encode initial admin (emergency)\n",
    "medical['Emergency_numeric']=medical['Initial_admin'].replace({\"Emergency Admission\": 1, \"Elective Admission\": 0, \n",
    "                                                       \"Observation Admission\": 0})\n",
    "medical.Emergency_numeric.value_counts()"
   ]
  },
  {
   "cell_type": "code",
   "execution_count": 33,
   "id": "1fd86de7",
   "metadata": {
    "scrolled": true
   },
   "outputs": [
    {
     "data": {
      "text/plain": [
       "Elective_numeric\n",
       "0    7496\n",
       "1    2504\n",
       "Name: count, dtype: int64"
      ]
     },
     "execution_count": 33,
     "metadata": {},
     "output_type": "execute_result"
    }
   ],
   "source": [
    "# one hot encode initial admin (elective)\n",
    "medical['Elective_numeric']=medical['Initial_admin'].replace({\"Emergency Admission\": 0, \"Elective Admission\": 1, \n",
    "                                                       \"Observation Admission\": 0})\n",
    "medical.Elective_numeric.value_counts()"
   ]
  },
  {
   "cell_type": "code",
   "execution_count": 34,
   "id": "bf346cca",
   "metadata": {
    "scrolled": true
   },
   "outputs": [
    {
     "data": {
      "text/plain": [
       "Intravenous_numeric\n",
       "0    6870\n",
       "1    3130\n",
       "Name: count, dtype: int64"
      ]
     },
     "execution_count": 34,
     "metadata": {},
     "output_type": "execute_result"
    }
   ],
   "source": [
    "# one hot encode services (intravenous)\n",
    "medical['Intravenous_numeric']=medical['Services'].replace({\"Intravenous\": 1, \"Blood Work\": 0, \n",
    "                                                       \"CT Scan\": 0, \"MRI\": 0})\n",
    "medical.Intravenous_numeric.value_counts()"
   ]
  },
  {
   "cell_type": "code",
   "execution_count": 35,
   "id": "23b1f854",
   "metadata": {},
   "outputs": [
    {
     "data": {
      "text/plain": [
       "CTScan_numeric\n",
       "0    8775\n",
       "1    1225\n",
       "Name: count, dtype: int64"
      ]
     },
     "execution_count": 35,
     "metadata": {},
     "output_type": "execute_result"
    }
   ],
   "source": [
    "# one hot encode services (CT Scan)\n",
    "medical['CTScan_numeric']=medical['Services'].replace({\"Intravenous\": 0, \"Blood Work\": 0, \n",
    "                                                       \"CT Scan\": 1, \"MRI\": 0})\n",
    "medical.CTScan_numeric.value_counts()"
   ]
  },
  {
   "cell_type": "code",
   "execution_count": 36,
   "id": "5b9900e2",
   "metadata": {
    "scrolled": true
   },
   "outputs": [
    {
     "data": {
      "text/plain": [
       "MRI_numeric\n",
       "0    9620\n",
       "1     380\n",
       "Name: count, dtype: int64"
      ]
     },
     "execution_count": 36,
     "metadata": {},
     "output_type": "execute_result"
    }
   ],
   "source": [
    "# one hot encode services (MRI)\n",
    "medical['MRI_numeric']=medical['Services'].replace({\"Intravenous\": 0, \"Blood Work\": 0, \n",
    "                                                       \"CT Scan\": 0, \"MRI\": 1})\n",
    "medical.MRI_numeric.value_counts()"
   ]
  },
  {
   "cell_type": "code",
   "execution_count": 37,
   "id": "1b30c513",
   "metadata": {},
   "outputs": [
    {
     "data": {
      "text/plain": [
       "Suburban_numeric\n",
       "0    6672\n",
       "1    3328\n",
       "Name: count, dtype: int64"
      ]
     },
     "execution_count": 37,
     "metadata": {},
     "output_type": "execute_result"
    }
   ],
   "source": [
    "# one hot encode Area (suburban)\n",
    "medical['Suburban_numeric']=medical['Area'].replace({\"Urban\": 0, \"Rural\": 0, \n",
    "                                                       \"Suburban\": 1})\n",
    "medical.Suburban_numeric.value_counts()"
   ]
  },
  {
   "cell_type": "code",
   "execution_count": 38,
   "id": "8dd7807c",
   "metadata": {},
   "outputs": [
    {
     "data": {
      "text/plain": [
       "Urban_numeric\n",
       "0    6697\n",
       "1    3303\n",
       "Name: count, dtype: int64"
      ]
     },
     "execution_count": 38,
     "metadata": {},
     "output_type": "execute_result"
    }
   ],
   "source": [
    "# one hot encode Area (urban)\n",
    "medical['Urban_numeric']=medical['Area'].replace({\"Urban\": 1, \"Rural\": 0, \n",
    "                                                       \"Suburban\": 0})\n",
    "medical.Urban_numeric.value_counts()"
   ]
  },
  {
   "cell_type": "code",
   "execution_count": 39,
   "id": "592b8788",
   "metadata": {},
   "outputs": [
    {
     "data": {
      "text/plain": [
       "Divorced_numeric\n",
       "0    8039\n",
       "1    1961\n",
       "Name: count, dtype: int64"
      ]
     },
     "execution_count": 39,
     "metadata": {},
     "output_type": "execute_result"
    }
   ],
   "source": [
    "# one hot encode marital (divorced)\n",
    "medical['Divorced_numeric']=medical['Marital'].replace({\"Widowed\": 0, \"Married\": 0, \"Separated\": 0,\"Never Married\": 0, \n",
    "                                                       \"Divorced\": 1})\n",
    "medical.Divorced_numeric.value_counts()"
   ]
  },
  {
   "cell_type": "code",
   "execution_count": 40,
   "id": "b1ae72e8",
   "metadata": {
    "scrolled": true
   },
   "outputs": [
    {
     "data": {
      "text/plain": [
       "Married_numeric\n",
       "0    7977\n",
       "1    2023\n",
       "Name: count, dtype: int64"
      ]
     },
     "execution_count": 40,
     "metadata": {},
     "output_type": "execute_result"
    }
   ],
   "source": [
    "# one hot encode marital (married)\n",
    "medical['Married_numeric']=medical['Marital'].replace({\"Widowed\": 0, \"Married\": 1, \"Separated\": 0,\"Never Married\": 0, \n",
    "                                                       \"Divorced\": 0})\n",
    "medical.Married_numeric.value_counts()"
   ]
  },
  {
   "cell_type": "code",
   "execution_count": 41,
   "id": "951b6a00",
   "metadata": {},
   "outputs": [
    {
     "data": {
      "text/plain": [
       "NeverMarried_numeric\n",
       "0    8016\n",
       "1    1984\n",
       "Name: count, dtype: int64"
      ]
     },
     "execution_count": 41,
     "metadata": {},
     "output_type": "execute_result"
    }
   ],
   "source": [
    "# one hot encode marital (Never married)\n",
    "medical['NeverMarried_numeric']=medical['Marital'].replace({\"Widowed\": 0, \"Married\": 0, \"Separated\": 0,\"Never Married\": 1, \n",
    "                                                       \"Divorced\": 0})\n",
    "medical.NeverMarried_numeric.value_counts()"
   ]
  },
  {
   "cell_type": "code",
   "execution_count": 42,
   "id": "3a0f4383",
   "metadata": {},
   "outputs": [
    {
     "data": {
      "text/plain": [
       "Widowed_numeric\n",
       "0    7955\n",
       "1    2045\n",
       "Name: count, dtype: int64"
      ]
     },
     "execution_count": 42,
     "metadata": {},
     "output_type": "execute_result"
    }
   ],
   "source": [
    "# one hot encode marital (widowed)\n",
    "medical['Widowed_numeric']=medical['Marital'].replace({\"Widowed\": 1, \"Married\": 0, \"Separated\": 0,\"Never Married\": 0, \n",
    "                                                       \"Divorced\": 0})\n",
    "medical.Widowed_numeric.value_counts()"
   ]
  },
  {
   "cell_type": "code",
   "execution_count": 43,
   "id": "f91dff87",
   "metadata": {},
   "outputs": [
    {
     "data": {
      "text/plain": [
       "Nonbinary_numeric\n",
       "0    9786\n",
       "1     214\n",
       "Name: count, dtype: int64"
      ]
     },
     "execution_count": 43,
     "metadata": {},
     "output_type": "execute_result"
    }
   ],
   "source": [
    "# one hot encode gender (nonbinary)\n",
    "medical['Nonbinary_numeric']=medical['Gender'].replace({\"Male\": 0, \"Female\": 0, \"Nonbinary\": 1})\n",
    "medical.Nonbinary_numeric.value_counts()"
   ]
  },
  {
   "cell_type": "code",
   "execution_count": 44,
   "id": "ef42f2ab",
   "metadata": {},
   "outputs": [
    {
     "data": {
      "text/plain": [
       "Male_numeric\n",
       "0    5232\n",
       "1    4768\n",
       "Name: count, dtype: int64"
      ]
     },
     "execution_count": 44,
     "metadata": {},
     "output_type": "execute_result"
    }
   ],
   "source": [
    "# one hot encode gender (male)\n",
    "medical['Male_numeric']=medical['Gender'].replace({\"Male\": 1, \"Female\": 0, \"Nonbinary\": 0})\n",
    "medical.Male_numeric.value_counts()"
   ]
  },
  {
   "cell_type": "code",
   "execution_count": 45,
   "id": "4e115adc",
   "metadata": {},
   "outputs": [],
   "source": [
    "medical_std=medical.drop(['ReAdmis', 'Gender', 'Services', 'Marital', 'Area', 'Initial_admin', 'Soft_drink', 'HighBlood',\n",
    "                         'Stroke', 'Complication_risk', 'Overweight', 'Arthritis', 'Diabetes', 'Hyperlipidemia', 'BackPain',\n",
    "                         'Anxiety', 'Allergic_rhinitis', 'Reflux_esophagitis', 'Asthma', 'Customer_id', 'Interaction',\n",
    "                        'UID', 'City', 'State', 'County', 'Zip', 'Lat', 'Lng', 'TimeZone', 'Job', 'CaseOrder'], axis=1)"
   ]
  },
  {
   "cell_type": "code",
   "execution_count": 46,
   "id": "03cac085",
   "metadata": {},
   "outputs": [],
   "source": [
    "# saving the dataframe 'medical_prepared' as a CSV file \n",
    "medical_std.to_csv('medical_prepared.csv', index = True)"
   ]
  },
  {
   "cell_type": "markdown",
   "id": "091bd09d",
   "metadata": {},
   "source": [
    "Do select K best for 5 features of highest signficance"
   ]
  },
  {
   "cell_type": "code",
   "execution_count": 47,
   "id": "cffbd46d-6ebc-4bdc-bce0-11a3d381bc2c",
   "metadata": {},
   "outputs": [
    {
     "name": "stdout",
     "output_type": "stream",
     "text": [
      "(10000, 45)\n",
      "(10000,)\n"
     ]
    }
   ],
   "source": [
    "X = medical_std.drop(['ReAdmis_numeric'],axis = 1)\n",
    "y = medical_std['ReAdmis_numeric']\n",
    "print(X.shape)\n",
    "print(y.shape)"
   ]
  },
  {
   "cell_type": "code",
   "execution_count": 48,
   "id": "adb49dbb-fc79-4f2c-bc71-f1d55b8ce2c8",
   "metadata": {},
   "outputs": [
    {
     "data": {
      "text/html": [
       "<div>\n",
       "<style scoped>\n",
       "    .dataframe tbody tr th:only-of-type {\n",
       "        vertical-align: middle;\n",
       "    }\n",
       "\n",
       "    .dataframe tbody tr th {\n",
       "        vertical-align: top;\n",
       "    }\n",
       "\n",
       "    .dataframe thead th {\n",
       "        text-align: right;\n",
       "    }\n",
       "</style>\n",
       "<table border=\"1\" class=\"dataframe\">\n",
       "  <thead>\n",
       "    <tr style=\"text-align: right;\">\n",
       "      <th></th>\n",
       "      <th>Population</th>\n",
       "      <th>Children</th>\n",
       "      <th>Age</th>\n",
       "      <th>Income</th>\n",
       "      <th>VitD_levels</th>\n",
       "      <th>Doc_visits</th>\n",
       "      <th>Full_meals_eaten</th>\n",
       "      <th>vitD_supp</th>\n",
       "      <th>Initial_days</th>\n",
       "      <th>TotalCharge</th>\n",
       "      <th>...</th>\n",
       "      <th>CTScan_numeric</th>\n",
       "      <th>MRI_numeric</th>\n",
       "      <th>Suburban_numeric</th>\n",
       "      <th>Urban_numeric</th>\n",
       "      <th>Divorced_numeric</th>\n",
       "      <th>Married_numeric</th>\n",
       "      <th>NeverMarried_numeric</th>\n",
       "      <th>Widowed_numeric</th>\n",
       "      <th>Nonbinary_numeric</th>\n",
       "      <th>Male_numeric</th>\n",
       "    </tr>\n",
       "  </thead>\n",
       "  <tbody>\n",
       "    <tr>\n",
       "      <th>0</th>\n",
       "      <td>-0.473168</td>\n",
       "      <td>-0.507129</td>\n",
       "      <td>-0.024795</td>\n",
       "      <td>1.615914</td>\n",
       "      <td>0.583603</td>\n",
       "      <td>0.944647</td>\n",
       "      <td>-0.993387</td>\n",
       "      <td>-0.634713</td>\n",
       "      <td>-0.907310</td>\n",
       "      <td>-0.727185</td>\n",
       "      <td>...</td>\n",
       "      <td>-0.373632</td>\n",
       "      <td>-0.198749</td>\n",
       "      <td>1.415912</td>\n",
       "      <td>-0.702286</td>\n",
       "      <td>2.024707</td>\n",
       "      <td>-0.503591</td>\n",
       "      <td>-0.497499</td>\n",
       "      <td>-0.507022</td>\n",
       "      <td>-0.147878</td>\n",
       "      <td>1.047528</td>\n",
       "    </tr>\n",
       "    <tr>\n",
       "      <th>1</th>\n",
       "      <td>0.090242</td>\n",
       "      <td>0.417277</td>\n",
       "      <td>-0.121706</td>\n",
       "      <td>0.221443</td>\n",
       "      <td>0.483901</td>\n",
       "      <td>-0.967981</td>\n",
       "      <td>0.990609</td>\n",
       "      <td>0.956445</td>\n",
       "      <td>-0.734595</td>\n",
       "      <td>-0.513228</td>\n",
       "      <td>...</td>\n",
       "      <td>-0.373632</td>\n",
       "      <td>-0.198749</td>\n",
       "      <td>-0.706258</td>\n",
       "      <td>1.423921</td>\n",
       "      <td>-0.493899</td>\n",
       "      <td>1.985738</td>\n",
       "      <td>-0.497499</td>\n",
       "      <td>-0.507022</td>\n",
       "      <td>-0.147878</td>\n",
       "      <td>-0.954628</td>\n",
       "    </tr>\n",
       "    <tr>\n",
       "      <th>2</th>\n",
       "      <td>0.482983</td>\n",
       "      <td>0.417277</td>\n",
       "      <td>-0.024795</td>\n",
       "      <td>-0.915870</td>\n",
       "      <td>0.046227</td>\n",
       "      <td>-0.967981</td>\n",
       "      <td>-0.001389</td>\n",
       "      <td>-0.634713</td>\n",
       "      <td>-1.128292</td>\n",
       "      <td>-1.319983</td>\n",
       "      <td>...</td>\n",
       "      <td>-0.373632</td>\n",
       "      <td>-0.198749</td>\n",
       "      <td>1.415912</td>\n",
       "      <td>-0.702286</td>\n",
       "      <td>-0.493899</td>\n",
       "      <td>-0.503591</td>\n",
       "      <td>-0.497499</td>\n",
       "      <td>1.972302</td>\n",
       "      <td>-0.147878</td>\n",
       "      <td>-0.954628</td>\n",
       "    </tr>\n",
       "    <tr>\n",
       "      <th>3</th>\n",
       "      <td>-0.526393</td>\n",
       "      <td>-0.969332</td>\n",
       "      <td>1.186592</td>\n",
       "      <td>-0.026263</td>\n",
       "      <td>-0.687811</td>\n",
       "      <td>-0.967981</td>\n",
       "      <td>-0.001389</td>\n",
       "      <td>-0.634713</td>\n",
       "      <td>-1.244503</td>\n",
       "      <td>-1.460517</td>\n",
       "      <td>...</td>\n",
       "      <td>-0.373632</td>\n",
       "      <td>-0.198749</td>\n",
       "      <td>1.415912</td>\n",
       "      <td>-0.702286</td>\n",
       "      <td>-0.493899</td>\n",
       "      <td>1.985738</td>\n",
       "      <td>-0.497499</td>\n",
       "      <td>-0.507022</td>\n",
       "      <td>-0.147878</td>\n",
       "      <td>1.047528</td>\n",
       "    </tr>\n",
       "    <tr>\n",
       "      <th>4</th>\n",
       "      <td>-0.315586</td>\n",
       "      <td>-0.507129</td>\n",
       "      <td>-1.526914</td>\n",
       "      <td>-1.377325</td>\n",
       "      <td>-0.260366</td>\n",
       "      <td>-0.011667</td>\n",
       "      <td>-0.993387</td>\n",
       "      <td>2.547602</td>\n",
       "      <td>-1.261991</td>\n",
       "      <td>-1.467285</td>\n",
       "      <td>...</td>\n",
       "      <td>2.676428</td>\n",
       "      <td>-0.198749</td>\n",
       "      <td>-0.706258</td>\n",
       "      <td>-0.702286</td>\n",
       "      <td>-0.493899</td>\n",
       "      <td>-0.503591</td>\n",
       "      <td>-0.497499</td>\n",
       "      <td>1.972302</td>\n",
       "      <td>-0.147878</td>\n",
       "      <td>-0.954628</td>\n",
       "    </tr>\n",
       "    <tr>\n",
       "      <th>...</th>\n",
       "      <td>...</td>\n",
       "      <td>...</td>\n",
       "      <td>...</td>\n",
       "      <td>...</td>\n",
       "      <td>...</td>\n",
       "      <td>...</td>\n",
       "      <td>...</td>\n",
       "      <td>...</td>\n",
       "      <td>...</td>\n",
       "      <td>...</td>\n",
       "      <td>...</td>\n",
       "      <td>...</td>\n",
       "      <td>...</td>\n",
       "      <td>...</td>\n",
       "      <td>...</td>\n",
       "      <td>...</td>\n",
       "      <td>...</td>\n",
       "      <td>...</td>\n",
       "      <td>...</td>\n",
       "      <td>...</td>\n",
       "      <td>...</td>\n",
       "    </tr>\n",
       "    <tr>\n",
       "      <th>9995</th>\n",
       "      <td>-0.351002</td>\n",
       "      <td>-0.044926</td>\n",
       "      <td>-1.381548</td>\n",
       "      <td>0.192047</td>\n",
       "      <td>-0.487525</td>\n",
       "      <td>-0.967981</td>\n",
       "      <td>0.990609</td>\n",
       "      <td>0.956445</td>\n",
       "      <td>0.650217</td>\n",
       "      <td>0.705765</td>\n",
       "      <td>...</td>\n",
       "      <td>-0.373632</td>\n",
       "      <td>-0.198749</td>\n",
       "      <td>-0.706258</td>\n",
       "      <td>1.423921</td>\n",
       "      <td>-0.493899</td>\n",
       "      <td>-0.503591</td>\n",
       "      <td>-0.497499</td>\n",
       "      <td>1.972302</td>\n",
       "      <td>-0.147878</td>\n",
       "      <td>1.047528</td>\n",
       "    </tr>\n",
       "    <tr>\n",
       "      <th>9996</th>\n",
       "      <td>-0.587847</td>\n",
       "      <td>0.879480</td>\n",
       "      <td>1.622691</td>\n",
       "      <td>-0.894380</td>\n",
       "      <td>0.105476</td>\n",
       "      <td>-0.011667</td>\n",
       "      <td>-0.993387</td>\n",
       "      <td>-0.634713</td>\n",
       "      <td>1.300475</td>\n",
       "      <td>1.114312</td>\n",
       "      <td>...</td>\n",
       "      <td>2.676428</td>\n",
       "      <td>-0.198749</td>\n",
       "      <td>-0.706258</td>\n",
       "      <td>1.423921</td>\n",
       "      <td>-0.493899</td>\n",
       "      <td>-0.503591</td>\n",
       "      <td>-0.497499</td>\n",
       "      <td>1.972302</td>\n",
       "      <td>-0.147878</td>\n",
       "      <td>1.047528</td>\n",
       "    </tr>\n",
       "    <tr>\n",
       "      <th>9997</th>\n",
       "      <td>-0.636349</td>\n",
       "      <td>0.417277</td>\n",
       "      <td>-0.412438</td>\n",
       "      <td>0.891569</td>\n",
       "      <td>-0.414049</td>\n",
       "      <td>-0.967981</td>\n",
       "      <td>0.990609</td>\n",
       "      <td>-0.634713</td>\n",
       "      <td>1.356958</td>\n",
       "      <td>1.359597</td>\n",
       "      <td>...</td>\n",
       "      <td>-0.373632</td>\n",
       "      <td>-0.198749</td>\n",
       "      <td>-0.706258</td>\n",
       "      <td>-0.702286</td>\n",
       "      <td>-0.493899</td>\n",
       "      <td>-0.503591</td>\n",
       "      <td>-0.497499</td>\n",
       "      <td>-0.507022</td>\n",
       "      <td>-0.147878</td>\n",
       "      <td>-0.954628</td>\n",
       "    </tr>\n",
       "    <tr>\n",
       "      <th>9998</th>\n",
       "      <td>-0.653956</td>\n",
       "      <td>0.417277</td>\n",
       "      <td>-0.509349</td>\n",
       "      <td>-0.378271</td>\n",
       "      <td>0.964820</td>\n",
       "      <td>-0.011667</td>\n",
       "      <td>0.990609</td>\n",
       "      <td>0.956445</td>\n",
       "      <td>1.098585</td>\n",
       "      <td>1.069727</td>\n",
       "      <td>...</td>\n",
       "      <td>-0.373632</td>\n",
       "      <td>-0.198749</td>\n",
       "      <td>-0.706258</td>\n",
       "      <td>-0.702286</td>\n",
       "      <td>2.024707</td>\n",
       "      <td>-0.503591</td>\n",
       "      <td>-0.497499</td>\n",
       "      <td>-0.507022</td>\n",
       "      <td>-0.147878</td>\n",
       "      <td>1.047528</td>\n",
       "    </tr>\n",
       "    <tr>\n",
       "      <th>9999</th>\n",
       "      <td>2.128893</td>\n",
       "      <td>2.728293</td>\n",
       "      <td>0.798948</td>\n",
       "      <td>0.778133</td>\n",
       "      <td>0.210377</td>\n",
       "      <td>-0.011667</td>\n",
       "      <td>-0.993387</td>\n",
       "      <td>0.956445</td>\n",
       "      <td>1.383429</td>\n",
       "      <td>1.181213</td>\n",
       "      <td>...</td>\n",
       "      <td>-0.373632</td>\n",
       "      <td>-0.198749</td>\n",
       "      <td>-0.706258</td>\n",
       "      <td>1.423921</td>\n",
       "      <td>-0.493899</td>\n",
       "      <td>-0.503591</td>\n",
       "      <td>-0.497499</td>\n",
       "      <td>-0.507022</td>\n",
       "      <td>-0.147878</td>\n",
       "      <td>-0.954628</td>\n",
       "    </tr>\n",
       "  </tbody>\n",
       "</table>\n",
       "<p>10000 rows × 45 columns</p>\n",
       "</div>"
      ],
      "text/plain": [
       "      Population  Children       Age    Income  VitD_levels  Doc_visits  \\\n",
       "0      -0.473168 -0.507129 -0.024795  1.615914     0.583603    0.944647   \n",
       "1       0.090242  0.417277 -0.121706  0.221443     0.483901   -0.967981   \n",
       "2       0.482983  0.417277 -0.024795 -0.915870     0.046227   -0.967981   \n",
       "3      -0.526393 -0.969332  1.186592 -0.026263    -0.687811   -0.967981   \n",
       "4      -0.315586 -0.507129 -1.526914 -1.377325    -0.260366   -0.011667   \n",
       "...          ...       ...       ...       ...          ...         ...   \n",
       "9995   -0.351002 -0.044926 -1.381548  0.192047    -0.487525   -0.967981   \n",
       "9996   -0.587847  0.879480  1.622691 -0.894380     0.105476   -0.011667   \n",
       "9997   -0.636349  0.417277 -0.412438  0.891569    -0.414049   -0.967981   \n",
       "9998   -0.653956  0.417277 -0.509349 -0.378271     0.964820   -0.011667   \n",
       "9999    2.128893  2.728293  0.798948  0.778133     0.210377   -0.011667   \n",
       "\n",
       "      Full_meals_eaten  vitD_supp  Initial_days  TotalCharge  ...  \\\n",
       "0            -0.993387  -0.634713     -0.907310    -0.727185  ...   \n",
       "1             0.990609   0.956445     -0.734595    -0.513228  ...   \n",
       "2            -0.001389  -0.634713     -1.128292    -1.319983  ...   \n",
       "3            -0.001389  -0.634713     -1.244503    -1.460517  ...   \n",
       "4            -0.993387   2.547602     -1.261991    -1.467285  ...   \n",
       "...                ...        ...           ...          ...  ...   \n",
       "9995          0.990609   0.956445      0.650217     0.705765  ...   \n",
       "9996         -0.993387  -0.634713      1.300475     1.114312  ...   \n",
       "9997          0.990609  -0.634713      1.356958     1.359597  ...   \n",
       "9998          0.990609   0.956445      1.098585     1.069727  ...   \n",
       "9999         -0.993387   0.956445      1.383429     1.181213  ...   \n",
       "\n",
       "      CTScan_numeric  MRI_numeric  Suburban_numeric  Urban_numeric  \\\n",
       "0          -0.373632    -0.198749          1.415912      -0.702286   \n",
       "1          -0.373632    -0.198749         -0.706258       1.423921   \n",
       "2          -0.373632    -0.198749          1.415912      -0.702286   \n",
       "3          -0.373632    -0.198749          1.415912      -0.702286   \n",
       "4           2.676428    -0.198749         -0.706258      -0.702286   \n",
       "...              ...          ...               ...            ...   \n",
       "9995       -0.373632    -0.198749         -0.706258       1.423921   \n",
       "9996        2.676428    -0.198749         -0.706258       1.423921   \n",
       "9997       -0.373632    -0.198749         -0.706258      -0.702286   \n",
       "9998       -0.373632    -0.198749         -0.706258      -0.702286   \n",
       "9999       -0.373632    -0.198749         -0.706258       1.423921   \n",
       "\n",
       "      Divorced_numeric  Married_numeric  NeverMarried_numeric  \\\n",
       "0             2.024707        -0.503591             -0.497499   \n",
       "1            -0.493899         1.985738             -0.497499   \n",
       "2            -0.493899        -0.503591             -0.497499   \n",
       "3            -0.493899         1.985738             -0.497499   \n",
       "4            -0.493899        -0.503591             -0.497499   \n",
       "...                ...              ...                   ...   \n",
       "9995         -0.493899        -0.503591             -0.497499   \n",
       "9996         -0.493899        -0.503591             -0.497499   \n",
       "9997         -0.493899        -0.503591             -0.497499   \n",
       "9998          2.024707        -0.503591             -0.497499   \n",
       "9999         -0.493899        -0.503591             -0.497499   \n",
       "\n",
       "      Widowed_numeric  Nonbinary_numeric  Male_numeric  \n",
       "0           -0.507022          -0.147878      1.047528  \n",
       "1           -0.507022          -0.147878     -0.954628  \n",
       "2            1.972302          -0.147878     -0.954628  \n",
       "3           -0.507022          -0.147878      1.047528  \n",
       "4            1.972302          -0.147878     -0.954628  \n",
       "...               ...                ...           ...  \n",
       "9995         1.972302          -0.147878      1.047528  \n",
       "9996         1.972302          -0.147878      1.047528  \n",
       "9997        -0.507022          -0.147878     -0.954628  \n",
       "9998        -0.507022          -0.147878      1.047528  \n",
       "9999        -0.507022          -0.147878     -0.954628  \n",
       "\n",
       "[10000 rows x 45 columns]"
      ]
     },
     "execution_count": 48,
     "metadata": {},
     "output_type": "execute_result"
    }
   ],
   "source": [
    "# perform scaling on continuous variables\n",
    "scale = StandardScaler()\n",
    "\n",
    "scaledX = pd.DataFrame(scale.fit_transform(X), columns = X.columns)\n",
    "\n",
    "scaledX"
   ]
  },
  {
   "cell_type": "code",
   "execution_count": 49,
   "id": "e3fb47ca",
   "metadata": {},
   "outputs": [
    {
     "data": {
      "text/plain": [
       "(10000, 45)"
      ]
     },
     "execution_count": 49,
     "metadata": {},
     "output_type": "execute_result"
    }
   ],
   "source": [
    "feature_names = scaledX.columns\n",
    "from sklearn.feature_selection import SelectKBest\n",
    "from sklearn.feature_selection import f_classif\n",
    "skbest = SelectKBest(score_func = f_classif, k='all')\n",
    "X_new = skbest.fit_transform(scaledX, y)\n",
    "X_new.shape"
   ]
  },
  {
   "cell_type": "code",
   "execution_count": 50,
   "id": "2dd5b0ff",
   "metadata": {},
   "outputs": [
    {
     "data": {
      "text/html": [
       "<div>\n",
       "<style scoped>\n",
       "    .dataframe tbody tr th:only-of-type {\n",
       "        vertical-align: middle;\n",
       "    }\n",
       "\n",
       "    .dataframe tbody tr th {\n",
       "        vertical-align: top;\n",
       "    }\n",
       "\n",
       "    .dataframe thead th {\n",
       "        text-align: right;\n",
       "    }\n",
       "</style>\n",
       "<table border=\"1\" class=\"dataframe\">\n",
       "  <thead>\n",
       "    <tr style=\"text-align: right;\">\n",
       "      <th></th>\n",
       "      <th>Feature</th>\n",
       "      <th>p_value</th>\n",
       "    </tr>\n",
       "  </thead>\n",
       "  <tbody>\n",
       "    <tr>\n",
       "      <th>9</th>\n",
       "      <td>TotalCharge</td>\n",
       "      <td>0.000000</td>\n",
       "    </tr>\n",
       "    <tr>\n",
       "      <th>8</th>\n",
       "      <td>Initial_days</td>\n",
       "      <td>0.000000</td>\n",
       "    </tr>\n",
       "    <tr>\n",
       "      <th>35</th>\n",
       "      <td>CTScan_numeric</td>\n",
       "      <td>0.014707</td>\n",
       "    </tr>\n",
       "    <tr>\n",
       "      <th>1</th>\n",
       "      <td>Children</td>\n",
       "      <td>0.018613</td>\n",
       "    </tr>\n",
       "    <tr>\n",
       "      <th>39</th>\n",
       "      <td>Divorced_numeric</td>\n",
       "      <td>0.030143</td>\n",
       "    </tr>\n",
       "  </tbody>\n",
       "</table>\n",
       "</div>"
      ],
      "text/plain": [
       "             Feature   p_value\n",
       "9        TotalCharge  0.000000\n",
       "8       Initial_days  0.000000\n",
       "35    CTScan_numeric  0.014707\n",
       "1           Children  0.018613\n",
       "39  Divorced_numeric  0.030143"
      ]
     },
     "execution_count": 50,
     "metadata": {},
     "output_type": "execute_result"
    }
   ],
   "source": [
    "### Finding P-values to select statistically significant features \n",
    "p_values = pd.DataFrame({'Feature': scaledX.columns, 'p_value':skbest.pvalues_}).sort_values('p_value')\n",
    "sig_features=p_values[p_values['p_value'] < .05]\n",
    "\n",
    "# get 5 features with lowest p values\n",
    "sig_features.head(n=5)"
   ]
  },
  {
   "cell_type": "markdown",
   "id": "59867e11",
   "metadata": {},
   "source": [
    "Split data into train and test "
   ]
  },
  {
   "cell_type": "code",
   "execution_count": 51,
   "id": "2069140b",
   "metadata": {},
   "outputs": [],
   "source": [
    "from sklearn.model_selection import train_test_split\n",
    "scaledX = scaledX[['TotalCharge','Initial_days','CTScan_numeric','Children','Divorced_numeric']]\n",
    "y = medical_std['ReAdmis_numeric']\n",
    "X_train, X_test, y_train, y_test = train_test_split(scaledX, y, test_size = 0.2, stratify = y, random_state=1)"
   ]
  },
  {
   "cell_type": "code",
   "execution_count": 52,
   "id": "615d0be1",
   "metadata": {},
   "outputs": [],
   "source": [
    "training_data=[X_train,y_train]\n",
    "med_train=pd.concat(training_data,axis=1)\n",
    "testing_data=[X_test, y_test]\n",
    "med_test=pd.concat(testing_data,axis=1)\n",
    "\n",
    "#save out data\n",
    "med_train.to_csv('medical_train.csv')\n",
    "med_test.to_csv('medical_test.csv')"
   ]
  },
  {
   "cell_type": "markdown",
   "id": "19d07fe1",
   "metadata": {},
   "source": [
    "Get best number of neighbors"
   ]
  },
  {
   "cell_type": "code",
   "execution_count": 53,
   "id": "49d2381b",
   "metadata": {},
   "outputs": [],
   "source": [
    "#finding best K-value \n",
    "knn = KNeighborsClassifier() \n",
    "k_range = list(range(1,101)) \n",
    "param_grid = dict(n_neighbors = k_range) "
   ]
  },
  {
   "cell_type": "code",
   "execution_count": 54,
   "id": "8f766a0b",
   "metadata": {},
   "outputs": [
    {
     "name": "stdout",
     "output_type": "stream",
     "text": [
      "Fitting 10 folds for each of 100 candidates, totalling 1000 fits\n",
      "The best K value is: \n",
      "{'n_neighbors': 10}\n"
     ]
    }
   ],
   "source": [
    "#Defining parameter range \n",
    "grid = GridSearchCV(knn, param_grid, cv = 10, scoring = 'accuracy', return_train_score = False, verbose = 1) \n",
    "\n",
    "#Fitting the model for grid search \n",
    "grid_search = grid.fit(X_train, y_train) \n",
    "\n",
    "print('The best K value is: ') \n",
    "print(grid_search.best_params_) "
   ]
  },
  {
   "cell_type": "markdown",
   "id": "247823e1",
   "metadata": {},
   "source": [
    "fit and run Knn model"
   ]
  },
  {
   "cell_type": "code",
   "execution_count": 55,
   "id": "b43d714f",
   "metadata": {},
   "outputs": [
    {
     "data": {
      "text/html": [
       "<style>#sk-container-id-1 {\n",
       "  /* Definition of color scheme common for light and dark mode */\n",
       "  --sklearn-color-text: black;\n",
       "  --sklearn-color-line: gray;\n",
       "  /* Definition of color scheme for unfitted estimators */\n",
       "  --sklearn-color-unfitted-level-0: #fff5e6;\n",
       "  --sklearn-color-unfitted-level-1: #f6e4d2;\n",
       "  --sklearn-color-unfitted-level-2: #ffe0b3;\n",
       "  --sklearn-color-unfitted-level-3: chocolate;\n",
       "  /* Definition of color scheme for fitted estimators */\n",
       "  --sklearn-color-fitted-level-0: #f0f8ff;\n",
       "  --sklearn-color-fitted-level-1: #d4ebff;\n",
       "  --sklearn-color-fitted-level-2: #b3dbfd;\n",
       "  --sklearn-color-fitted-level-3: cornflowerblue;\n",
       "\n",
       "  /* Specific color for light theme */\n",
       "  --sklearn-color-text-on-default-background: var(--sg-text-color, var(--theme-code-foreground, var(--jp-content-font-color1, black)));\n",
       "  --sklearn-color-background: var(--sg-background-color, var(--theme-background, var(--jp-layout-color0, white)));\n",
       "  --sklearn-color-border-box: var(--sg-text-color, var(--theme-code-foreground, var(--jp-content-font-color1, black)));\n",
       "  --sklearn-color-icon: #696969;\n",
       "\n",
       "  @media (prefers-color-scheme: dark) {\n",
       "    /* Redefinition of color scheme for dark theme */\n",
       "    --sklearn-color-text-on-default-background: var(--sg-text-color, var(--theme-code-foreground, var(--jp-content-font-color1, white)));\n",
       "    --sklearn-color-background: var(--sg-background-color, var(--theme-background, var(--jp-layout-color0, #111)));\n",
       "    --sklearn-color-border-box: var(--sg-text-color, var(--theme-code-foreground, var(--jp-content-font-color1, white)));\n",
       "    --sklearn-color-icon: #878787;\n",
       "  }\n",
       "}\n",
       "\n",
       "#sk-container-id-1 {\n",
       "  color: var(--sklearn-color-text);\n",
       "}\n",
       "\n",
       "#sk-container-id-1 pre {\n",
       "  padding: 0;\n",
       "}\n",
       "\n",
       "#sk-container-id-1 input.sk-hidden--visually {\n",
       "  border: 0;\n",
       "  clip: rect(1px 1px 1px 1px);\n",
       "  clip: rect(1px, 1px, 1px, 1px);\n",
       "  height: 1px;\n",
       "  margin: -1px;\n",
       "  overflow: hidden;\n",
       "  padding: 0;\n",
       "  position: absolute;\n",
       "  width: 1px;\n",
       "}\n",
       "\n",
       "#sk-container-id-1 div.sk-dashed-wrapped {\n",
       "  border: 1px dashed var(--sklearn-color-line);\n",
       "  margin: 0 0.4em 0.5em 0.4em;\n",
       "  box-sizing: border-box;\n",
       "  padding-bottom: 0.4em;\n",
       "  background-color: var(--sklearn-color-background);\n",
       "}\n",
       "\n",
       "#sk-container-id-1 div.sk-container {\n",
       "  /* jupyter's `normalize.less` sets `[hidden] { display: none; }`\n",
       "     but bootstrap.min.css set `[hidden] { display: none !important; }`\n",
       "     so we also need the `!important` here to be able to override the\n",
       "     default hidden behavior on the sphinx rendered scikit-learn.org.\n",
       "     See: https://github.com/scikit-learn/scikit-learn/issues/21755 */\n",
       "  display: inline-block !important;\n",
       "  position: relative;\n",
       "}\n",
       "\n",
       "#sk-container-id-1 div.sk-text-repr-fallback {\n",
       "  display: none;\n",
       "}\n",
       "\n",
       "div.sk-parallel-item,\n",
       "div.sk-serial,\n",
       "div.sk-item {\n",
       "  /* draw centered vertical line to link estimators */\n",
       "  background-image: linear-gradient(var(--sklearn-color-text-on-default-background), var(--sklearn-color-text-on-default-background));\n",
       "  background-size: 2px 100%;\n",
       "  background-repeat: no-repeat;\n",
       "  background-position: center center;\n",
       "}\n",
       "\n",
       "/* Parallel-specific style estimator block */\n",
       "\n",
       "#sk-container-id-1 div.sk-parallel-item::after {\n",
       "  content: \"\";\n",
       "  width: 100%;\n",
       "  border-bottom: 2px solid var(--sklearn-color-text-on-default-background);\n",
       "  flex-grow: 1;\n",
       "}\n",
       "\n",
       "#sk-container-id-1 div.sk-parallel {\n",
       "  display: flex;\n",
       "  align-items: stretch;\n",
       "  justify-content: center;\n",
       "  background-color: var(--sklearn-color-background);\n",
       "  position: relative;\n",
       "}\n",
       "\n",
       "#sk-container-id-1 div.sk-parallel-item {\n",
       "  display: flex;\n",
       "  flex-direction: column;\n",
       "}\n",
       "\n",
       "#sk-container-id-1 div.sk-parallel-item:first-child::after {\n",
       "  align-self: flex-end;\n",
       "  width: 50%;\n",
       "}\n",
       "\n",
       "#sk-container-id-1 div.sk-parallel-item:last-child::after {\n",
       "  align-self: flex-start;\n",
       "  width: 50%;\n",
       "}\n",
       "\n",
       "#sk-container-id-1 div.sk-parallel-item:only-child::after {\n",
       "  width: 0;\n",
       "}\n",
       "\n",
       "/* Serial-specific style estimator block */\n",
       "\n",
       "#sk-container-id-1 div.sk-serial {\n",
       "  display: flex;\n",
       "  flex-direction: column;\n",
       "  align-items: center;\n",
       "  background-color: var(--sklearn-color-background);\n",
       "  padding-right: 1em;\n",
       "  padding-left: 1em;\n",
       "}\n",
       "\n",
       "\n",
       "/* Toggleable style: style used for estimator/Pipeline/ColumnTransformer box that is\n",
       "clickable and can be expanded/collapsed.\n",
       "- Pipeline and ColumnTransformer use this feature and define the default style\n",
       "- Estimators will overwrite some part of the style using the `sk-estimator` class\n",
       "*/\n",
       "\n",
       "/* Pipeline and ColumnTransformer style (default) */\n",
       "\n",
       "#sk-container-id-1 div.sk-toggleable {\n",
       "  /* Default theme specific background. It is overwritten whether we have a\n",
       "  specific estimator or a Pipeline/ColumnTransformer */\n",
       "  background-color: var(--sklearn-color-background);\n",
       "}\n",
       "\n",
       "/* Toggleable label */\n",
       "#sk-container-id-1 label.sk-toggleable__label {\n",
       "  cursor: pointer;\n",
       "  display: block;\n",
       "  width: 100%;\n",
       "  margin-bottom: 0;\n",
       "  padding: 0.5em;\n",
       "  box-sizing: border-box;\n",
       "  text-align: center;\n",
       "}\n",
       "\n",
       "#sk-container-id-1 label.sk-toggleable__label-arrow:before {\n",
       "  /* Arrow on the left of the label */\n",
       "  content: \"▸\";\n",
       "  float: left;\n",
       "  margin-right: 0.25em;\n",
       "  color: var(--sklearn-color-icon);\n",
       "}\n",
       "\n",
       "#sk-container-id-1 label.sk-toggleable__label-arrow:hover:before {\n",
       "  color: var(--sklearn-color-text);\n",
       "}\n",
       "\n",
       "/* Toggleable content - dropdown */\n",
       "\n",
       "#sk-container-id-1 div.sk-toggleable__content {\n",
       "  max-height: 0;\n",
       "  max-width: 0;\n",
       "  overflow: hidden;\n",
       "  text-align: left;\n",
       "  /* unfitted */\n",
       "  background-color: var(--sklearn-color-unfitted-level-0);\n",
       "}\n",
       "\n",
       "#sk-container-id-1 div.sk-toggleable__content.fitted {\n",
       "  /* fitted */\n",
       "  background-color: var(--sklearn-color-fitted-level-0);\n",
       "}\n",
       "\n",
       "#sk-container-id-1 div.sk-toggleable__content pre {\n",
       "  margin: 0.2em;\n",
       "  border-radius: 0.25em;\n",
       "  color: var(--sklearn-color-text);\n",
       "  /* unfitted */\n",
       "  background-color: var(--sklearn-color-unfitted-level-0);\n",
       "}\n",
       "\n",
       "#sk-container-id-1 div.sk-toggleable__content.fitted pre {\n",
       "  /* unfitted */\n",
       "  background-color: var(--sklearn-color-fitted-level-0);\n",
       "}\n",
       "\n",
       "#sk-container-id-1 input.sk-toggleable__control:checked~div.sk-toggleable__content {\n",
       "  /* Expand drop-down */\n",
       "  max-height: 200px;\n",
       "  max-width: 100%;\n",
       "  overflow: auto;\n",
       "}\n",
       "\n",
       "#sk-container-id-1 input.sk-toggleable__control:checked~label.sk-toggleable__label-arrow:before {\n",
       "  content: \"▾\";\n",
       "}\n",
       "\n",
       "/* Pipeline/ColumnTransformer-specific style */\n",
       "\n",
       "#sk-container-id-1 div.sk-label input.sk-toggleable__control:checked~label.sk-toggleable__label {\n",
       "  color: var(--sklearn-color-text);\n",
       "  background-color: var(--sklearn-color-unfitted-level-2);\n",
       "}\n",
       "\n",
       "#sk-container-id-1 div.sk-label.fitted input.sk-toggleable__control:checked~label.sk-toggleable__label {\n",
       "  background-color: var(--sklearn-color-fitted-level-2);\n",
       "}\n",
       "\n",
       "/* Estimator-specific style */\n",
       "\n",
       "/* Colorize estimator box */\n",
       "#sk-container-id-1 div.sk-estimator input.sk-toggleable__control:checked~label.sk-toggleable__label {\n",
       "  /* unfitted */\n",
       "  background-color: var(--sklearn-color-unfitted-level-2);\n",
       "}\n",
       "\n",
       "#sk-container-id-1 div.sk-estimator.fitted input.sk-toggleable__control:checked~label.sk-toggleable__label {\n",
       "  /* fitted */\n",
       "  background-color: var(--sklearn-color-fitted-level-2);\n",
       "}\n",
       "\n",
       "#sk-container-id-1 div.sk-label label.sk-toggleable__label,\n",
       "#sk-container-id-1 div.sk-label label {\n",
       "  /* The background is the default theme color */\n",
       "  color: var(--sklearn-color-text-on-default-background);\n",
       "}\n",
       "\n",
       "/* On hover, darken the color of the background */\n",
       "#sk-container-id-1 div.sk-label:hover label.sk-toggleable__label {\n",
       "  color: var(--sklearn-color-text);\n",
       "  background-color: var(--sklearn-color-unfitted-level-2);\n",
       "}\n",
       "\n",
       "/* Label box, darken color on hover, fitted */\n",
       "#sk-container-id-1 div.sk-label.fitted:hover label.sk-toggleable__label.fitted {\n",
       "  color: var(--sklearn-color-text);\n",
       "  background-color: var(--sklearn-color-fitted-level-2);\n",
       "}\n",
       "\n",
       "/* Estimator label */\n",
       "\n",
       "#sk-container-id-1 div.sk-label label {\n",
       "  font-family: monospace;\n",
       "  font-weight: bold;\n",
       "  display: inline-block;\n",
       "  line-height: 1.2em;\n",
       "}\n",
       "\n",
       "#sk-container-id-1 div.sk-label-container {\n",
       "  text-align: center;\n",
       "}\n",
       "\n",
       "/* Estimator-specific */\n",
       "#sk-container-id-1 div.sk-estimator {\n",
       "  font-family: monospace;\n",
       "  border: 1px dotted var(--sklearn-color-border-box);\n",
       "  border-radius: 0.25em;\n",
       "  box-sizing: border-box;\n",
       "  margin-bottom: 0.5em;\n",
       "  /* unfitted */\n",
       "  background-color: var(--sklearn-color-unfitted-level-0);\n",
       "}\n",
       "\n",
       "#sk-container-id-1 div.sk-estimator.fitted {\n",
       "  /* fitted */\n",
       "  background-color: var(--sklearn-color-fitted-level-0);\n",
       "}\n",
       "\n",
       "/* on hover */\n",
       "#sk-container-id-1 div.sk-estimator:hover {\n",
       "  /* unfitted */\n",
       "  background-color: var(--sklearn-color-unfitted-level-2);\n",
       "}\n",
       "\n",
       "#sk-container-id-1 div.sk-estimator.fitted:hover {\n",
       "  /* fitted */\n",
       "  background-color: var(--sklearn-color-fitted-level-2);\n",
       "}\n",
       "\n",
       "/* Specification for estimator info (e.g. \"i\" and \"?\") */\n",
       "\n",
       "/* Common style for \"i\" and \"?\" */\n",
       "\n",
       ".sk-estimator-doc-link,\n",
       "a:link.sk-estimator-doc-link,\n",
       "a:visited.sk-estimator-doc-link {\n",
       "  float: right;\n",
       "  font-size: smaller;\n",
       "  line-height: 1em;\n",
       "  font-family: monospace;\n",
       "  background-color: var(--sklearn-color-background);\n",
       "  border-radius: 1em;\n",
       "  height: 1em;\n",
       "  width: 1em;\n",
       "  text-decoration: none !important;\n",
       "  margin-left: 1ex;\n",
       "  /* unfitted */\n",
       "  border: var(--sklearn-color-unfitted-level-1) 1pt solid;\n",
       "  color: var(--sklearn-color-unfitted-level-1);\n",
       "}\n",
       "\n",
       ".sk-estimator-doc-link.fitted,\n",
       "a:link.sk-estimator-doc-link.fitted,\n",
       "a:visited.sk-estimator-doc-link.fitted {\n",
       "  /* fitted */\n",
       "  border: var(--sklearn-color-fitted-level-1) 1pt solid;\n",
       "  color: var(--sklearn-color-fitted-level-1);\n",
       "}\n",
       "\n",
       "/* On hover */\n",
       "div.sk-estimator:hover .sk-estimator-doc-link:hover,\n",
       ".sk-estimator-doc-link:hover,\n",
       "div.sk-label-container:hover .sk-estimator-doc-link:hover,\n",
       ".sk-estimator-doc-link:hover {\n",
       "  /* unfitted */\n",
       "  background-color: var(--sklearn-color-unfitted-level-3);\n",
       "  color: var(--sklearn-color-background);\n",
       "  text-decoration: none;\n",
       "}\n",
       "\n",
       "div.sk-estimator.fitted:hover .sk-estimator-doc-link.fitted:hover,\n",
       ".sk-estimator-doc-link.fitted:hover,\n",
       "div.sk-label-container:hover .sk-estimator-doc-link.fitted:hover,\n",
       ".sk-estimator-doc-link.fitted:hover {\n",
       "  /* fitted */\n",
       "  background-color: var(--sklearn-color-fitted-level-3);\n",
       "  color: var(--sklearn-color-background);\n",
       "  text-decoration: none;\n",
       "}\n",
       "\n",
       "/* Span, style for the box shown on hovering the info icon */\n",
       ".sk-estimator-doc-link span {\n",
       "  display: none;\n",
       "  z-index: 9999;\n",
       "  position: relative;\n",
       "  font-weight: normal;\n",
       "  right: .2ex;\n",
       "  padding: .5ex;\n",
       "  margin: .5ex;\n",
       "  width: min-content;\n",
       "  min-width: 20ex;\n",
       "  max-width: 50ex;\n",
       "  color: var(--sklearn-color-text);\n",
       "  box-shadow: 2pt 2pt 4pt #999;\n",
       "  /* unfitted */\n",
       "  background: var(--sklearn-color-unfitted-level-0);\n",
       "  border: .5pt solid var(--sklearn-color-unfitted-level-3);\n",
       "}\n",
       "\n",
       ".sk-estimator-doc-link.fitted span {\n",
       "  /* fitted */\n",
       "  background: var(--sklearn-color-fitted-level-0);\n",
       "  border: var(--sklearn-color-fitted-level-3);\n",
       "}\n",
       "\n",
       ".sk-estimator-doc-link:hover span {\n",
       "  display: block;\n",
       "}\n",
       "\n",
       "/* \"?\"-specific style due to the `<a>` HTML tag */\n",
       "\n",
       "#sk-container-id-1 a.estimator_doc_link {\n",
       "  float: right;\n",
       "  font-size: 1rem;\n",
       "  line-height: 1em;\n",
       "  font-family: monospace;\n",
       "  background-color: var(--sklearn-color-background);\n",
       "  border-radius: 1rem;\n",
       "  height: 1rem;\n",
       "  width: 1rem;\n",
       "  text-decoration: none;\n",
       "  /* unfitted */\n",
       "  color: var(--sklearn-color-unfitted-level-1);\n",
       "  border: var(--sklearn-color-unfitted-level-1) 1pt solid;\n",
       "}\n",
       "\n",
       "#sk-container-id-1 a.estimator_doc_link.fitted {\n",
       "  /* fitted */\n",
       "  border: var(--sklearn-color-fitted-level-1) 1pt solid;\n",
       "  color: var(--sklearn-color-fitted-level-1);\n",
       "}\n",
       "\n",
       "/* On hover */\n",
       "#sk-container-id-1 a.estimator_doc_link:hover {\n",
       "  /* unfitted */\n",
       "  background-color: var(--sklearn-color-unfitted-level-3);\n",
       "  color: var(--sklearn-color-background);\n",
       "  text-decoration: none;\n",
       "}\n",
       "\n",
       "#sk-container-id-1 a.estimator_doc_link.fitted:hover {\n",
       "  /* fitted */\n",
       "  background-color: var(--sklearn-color-fitted-level-3);\n",
       "}\n",
       "</style><div id=\"sk-container-id-1\" class=\"sk-top-container\"><div class=\"sk-text-repr-fallback\"><pre>KNeighborsClassifier(n_neighbors=6)</pre><b>In a Jupyter environment, please rerun this cell to show the HTML representation or trust the notebook. <br />On GitHub, the HTML representation is unable to render, please try loading this page with nbviewer.org.</b></div><div class=\"sk-container\" hidden><div class=\"sk-item\"><div class=\"sk-estimator fitted sk-toggleable\"><input class=\"sk-toggleable__control sk-hidden--visually\" id=\"sk-estimator-id-1\" type=\"checkbox\" checked><label for=\"sk-estimator-id-1\" class=\"sk-toggleable__label fitted sk-toggleable__label-arrow fitted\">&nbsp;&nbsp;KNeighborsClassifier<a class=\"sk-estimator-doc-link fitted\" rel=\"noreferrer\" target=\"_blank\" href=\"https://scikit-learn.org/1.5/modules/generated/sklearn.neighbors.KNeighborsClassifier.html\">?<span>Documentation for KNeighborsClassifier</span></a><span class=\"sk-estimator-doc-link fitted\">i<span>Fitted</span></span></label><div class=\"sk-toggleable__content fitted\"><pre>KNeighborsClassifier(n_neighbors=6)</pre></div> </div></div></div></div>"
      ],
      "text/plain": [
       "KNeighborsClassifier(n_neighbors=6)"
      ]
     },
     "execution_count": 55,
     "metadata": {},
     "output_type": "execute_result"
    }
   ],
   "source": [
    "#Fit KNN model \n",
    "knn = KNeighborsClassifier(n_neighbors = 6) \n",
    "knn.fit(X_train, y_train) "
   ]
  },
  {
   "cell_type": "code",
   "execution_count": 56,
   "id": "a27ec6d0",
   "metadata": {},
   "outputs": [
    {
     "name": "stdout",
     "output_type": "stream",
     "text": [
      "[[1244   22]\n",
      " [  29  705]]\n"
     ]
    }
   ],
   "source": [
    "#Confusion matrix of test model \n",
    "y_pred = knn.predict(X_test) \n",
    "print(confusion_matrix(y_test, y_pred)) "
   ]
  },
  {
   "cell_type": "code",
   "execution_count": 57,
   "id": "8b6b378d",
   "metadata": {},
   "outputs": [
    {
     "name": "stdout",
     "output_type": "stream",
     "text": [
      "test_accuracy:  0.9745\n",
      "training_accuracy:  0.98175\n"
     ]
    }
   ],
   "source": [
    "#Accuracy \n",
    "print('test_accuracy: ', knn.score(X_test, y_test)) \n",
    "print('training_accuracy: ', knn.score(X_train, y_train))"
   ]
  },
  {
   "cell_type": "markdown",
   "id": "24b0d5a5",
   "metadata": {},
   "source": [
    "Evaluation of model"
   ]
  },
  {
   "cell_type": "code",
   "execution_count": 58,
   "id": "de0c625b",
   "metadata": {},
   "outputs": [
    {
     "name": "stdout",
     "output_type": "stream",
     "text": [
      "0.99539356724391\n"
     ]
    }
   ],
   "source": [
    "#AUC ROC of model \n",
    "y_predProb = knn.predict_proba(X_test)[:,1] \n",
    "print(roc_auc_score(y_test, y_predProb))"
   ]
  }
 ],
 "metadata": {
  "kernelspec": {
   "display_name": "Python 3 (ipykernel)",
   "language": "python",
   "name": "python3"
  },
  "language_info": {
   "codemirror_mode": {
    "name": "ipython",
    "version": 3
   },
   "file_extension": ".py",
   "mimetype": "text/x-python",
   "name": "python",
   "nbconvert_exporter": "python",
   "pygments_lexer": "ipython3",
   "version": "3.11.11"
  }
 },
 "nbformat": 4,
 "nbformat_minor": 5
}
